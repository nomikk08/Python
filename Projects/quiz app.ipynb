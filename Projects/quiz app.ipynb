{
 "cells": [
  {
   "cell_type": "code",
   "execution_count": 10,
   "metadata": {
    "scrolled": true
   },
   "outputs": [
    {
     "name": "stdout",
     "output_type": "stream",
     "text": [
      "1:which is the largest city of pakistan\n",
      "islamabad\n",
      "lahore\n",
      "karachi\n",
      "quetta\n",
      "karachi\n",
      "2:which is the capital city of pakistan\n",
      "islamabad\n",
      "lahore\n",
      "karachi\n",
      "quetta\n",
      "islamabad\n",
      "3:which is the densely populated city of pakistan\n",
      "islamabad\n",
      "lahore\n",
      "karachi\n",
      "quetta\n",
      "l\n",
      "youe score is  2\n",
      "your score percentage is  66.66666666666667\n"
     ]
    }
   ],
   "source": [
    "quiz = [\n",
    "    {\n",
    "        \"s:no \" : 1 ,\n",
    "        \"question \" : \"which is the largest city of pakistan\" ,\n",
    "        \"options\" : [\"islamabad\",\"lahore\",\"karachi\",\"quetta\"],\n",
    "        \"answer\" : \"karachi\"\n",
    "    },\n",
    "    {\n",
    "      \"s:no \" : 2 ,\n",
    "        \"question \" : \"which is the capital city of pakistan\" ,\n",
    "        \"options\" : [\"islamabad\",\"lahore\",\"karachi\",\"quetta\"],\n",
    "        \"answer\" : \"islamabad\"  \n",
    "    },\n",
    "    {\n",
    "        \"s:no \" : 3 ,\n",
    "        \"question \" : \"which is the densely populated city of pakistan\" ,\n",
    "        \"options\" : [\"islamabad\",\"lahore\",\"karachi\",\"quetta\"],\n",
    "        \"answer\" : \"lahore\"\n",
    "    }\n",
    "]\n",
    "score = 0\n",
    "for que in quiz :\n",
    "    data = str(que[\"s:no \"]) + \":\" + que[\"question \"] + \"\\n\" + que[\"options\"][0] + \"\\n\" + que[\"options\"][1] + \"\\n\" + que[\"options\"][2] + \"\\n\" + que[\"options\"][3] + \"\\n\"\n",
    "    answer = input(data)\n",
    "    if answer == que[\"answer\"] :\n",
    "        score += 1\n",
    "    \n",
    "print (\"youe score is \" , score)\n",
    "print (\"your score percentage is \" , (score*100)/3)\n",
    "    "
   ]
  },
  {
   "cell_type": "code",
   "execution_count": 4,
   "metadata": {},
   "outputs": [
    {
     "ename": "IndexError",
     "evalue": "list index out of range",
     "output_type": "error",
     "traceback": [
      "\u001b[1;31m---------------------------------------------------------------------------\u001b[0m",
      "\u001b[1;31mIndexError\u001b[0m                                Traceback (most recent call last)",
      "\u001b[1;32m<ipython-input-4-1ad09176b3b6>\u001b[0m in \u001b[0;36m<module>\u001b[1;34m\u001b[0m\n\u001b[0;32m     21\u001b[0m \u001b[0mscore\u001b[0m \u001b[1;33m=\u001b[0m \u001b[1;36m0\u001b[0m\u001b[1;33m\u001b[0m\u001b[1;33m\u001b[0m\u001b[0m\n\u001b[0;32m     22\u001b[0m \u001b[1;32mfor\u001b[0m \u001b[0mque\u001b[0m \u001b[1;32min\u001b[0m \u001b[0mquiz\u001b[0m\u001b[1;33m:\u001b[0m\u001b[1;33m\u001b[0m\u001b[1;33m\u001b[0m\u001b[0m\n\u001b[1;32m---> 23\u001b[1;33m     \u001b[0mdata\u001b[0m \u001b[1;33m=\u001b[0m \u001b[0mstr\u001b[0m\u001b[1;33m(\u001b[0m\u001b[0mque\u001b[0m\u001b[1;33m[\u001b[0m\u001b[1;34m\"s:no \"\u001b[0m\u001b[1;33m]\u001b[0m\u001b[1;33m)\u001b[0m \u001b[1;33m+\u001b[0m \u001b[1;34m\": \"\u001b[0m\u001b[1;33m+\u001b[0m \u001b[0mque\u001b[0m\u001b[1;33m[\u001b[0m\u001b[1;34m\"question \"\u001b[0m\u001b[1;33m]\u001b[0m \u001b[1;33m+\u001b[0m \u001b[1;34m\"\\n\"\u001b[0m \u001b[1;33m+\u001b[0m \u001b[0mque\u001b[0m\u001b[1;33m[\u001b[0m\u001b[1;34m\"options\"\u001b[0m\u001b[1;33m]\u001b[0m\u001b[1;33m[\u001b[0m\u001b[1;36m0\u001b[0m\u001b[1;33m]\u001b[0m\u001b[1;33m+\u001b[0m \u001b[1;34m\"\\n\"\u001b[0m \u001b[1;33m+\u001b[0m \u001b[0mque\u001b[0m\u001b[1;33m[\u001b[0m\u001b[1;34m\"options\"\u001b[0m\u001b[1;33m]\u001b[0m\u001b[1;33m[\u001b[0m\u001b[1;36m1\u001b[0m\u001b[1;33m]\u001b[0m \u001b[1;33m+\u001b[0m \u001b[1;34m\"\\n\"\u001b[0m \u001b[1;33m+\u001b[0m \u001b[0mque\u001b[0m\u001b[1;33m[\u001b[0m\u001b[1;34m\"options\"\u001b[0m\u001b[1;33m]\u001b[0m\u001b[1;33m[\u001b[0m\u001b[1;36m2\u001b[0m\u001b[1;33m]\u001b[0m \u001b[1;33m+\u001b[0m \u001b[1;34m\"\\n\"\u001b[0m \u001b[1;33m+\u001b[0m \u001b[1;33m[\u001b[0m\u001b[1;34m\"options\"\u001b[0m\u001b[1;33m]\u001b[0m\u001b[1;33m[\u001b[0m\u001b[1;36m3\u001b[0m\u001b[1;33m]\u001b[0m\u001b[1;33m\u001b[0m\u001b[1;33m\u001b[0m\u001b[0m\n\u001b[0m\u001b[0;32m     24\u001b[0m     \u001b[0manswer\u001b[0m \u001b[1;33m=\u001b[0m \u001b[0minput\u001b[0m\u001b[1;33m(\u001b[0m\u001b[0mdata\u001b[0m\u001b[1;33m)\u001b[0m\u001b[1;33m\u001b[0m\u001b[1;33m\u001b[0m\u001b[0m\n\u001b[0;32m     25\u001b[0m     \u001b[1;32mif\u001b[0m \u001b[0manswer\u001b[0m \u001b[1;33m==\u001b[0m \u001b[0mque\u001b[0m\u001b[1;33m[\u001b[0m\u001b[1;34m\"answer\"\u001b[0m\u001b[1;33m]\u001b[0m \u001b[1;33m:\u001b[0m\u001b[1;33m\u001b[0m\u001b[1;33m\u001b[0m\u001b[0m\n",
      "\u001b[1;31mIndexError\u001b[0m: list index out of range"
     ]
    }
   ],
   "source": [
    "quiz = [\n",
    "    {\n",
    "        \"s:no \" : 1 ,\n",
    "        \"question \" : \"which is the largest city of pakistan\" ,\n",
    "        \"options\" : [\"islamabad\",\"lahore\",\"karachi\",\"quetta\"],\n",
    "        \"answer\" : \"karachi\"\n",
    "    },\n",
    "    {\n",
    "      \"s:no \" : 2 ,\n",
    "        \"question \" : \"which is the capital city of pakistan\" ,\n",
    "        \"options\" : [\"islamabad\",\"lahore\",\"karachi\",\"quetta\"],\n",
    "        \"answer\" : \"islamabad\"  \n",
    "    },\n",
    "    {\n",
    "        \"s:no \" : 3 ,\n",
    "        \"question \" : \"which is the densely populated city of pakistan\" ,\n",
    "        \"options\" : [\"islamabad\",\"lahore\",\"karachi\",\"quetta\"],\n",
    "        \"answer\" : \"lahore\"\n",
    "    }\n",
    "]\n",
    "score = 0\n",
    "for que in quiz:\n",
    "    data = str(que[\"s:no \"]) + \": \"+ que[\"question \"] + \"\\n\" + que[\"options\"][0]+ \"\\n\" + que[\"options\"][1] + \"\\n\" + que[\"options\"][2] + \"\\n\" + [\"options\"][3]\n",
    "    answer = input(data)\n",
    "    if answer == que[\"answer\"] :\n",
    "        score += 1\n",
    "\n",
    "print (score)"
   ]
  },
  {
   "cell_type": "code",
   "execution_count": null,
   "metadata": {},
   "outputs": [],
   "source": []
  }
 ],
 "metadata": {
  "kernelspec": {
   "display_name": "Python 3",
   "language": "python",
   "name": "python3"
  },
  "language_info": {
   "codemirror_mode": {
    "name": "ipython",
    "version": 3
   },
   "file_extension": ".py",
   "mimetype": "text/x-python",
   "name": "python",
   "nbconvert_exporter": "python",
   "pygments_lexer": "ipython3",
   "version": "3.7.4"
  }
 },
 "nbformat": 4,
 "nbformat_minor": 2
}
