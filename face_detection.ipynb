{
  "nbformat": 4,
  "nbformat_minor": 0,
  "metadata": {
    "colab": {
      "name": "Untitled1.ipynb",
      "provenance": [],
      "authorship_tag": "ABX9TyMxvqIrVEfyxtjm0To01hPe",
      "include_colab_link": true
    },
    "kernelspec": {
      "name": "python3",
      "display_name": "Python 3"
    },
    "language_info": {
      "name": "python"
    }
  },
  "cells": [
    {
      "cell_type": "markdown",
      "metadata": {
        "id": "view-in-github",
        "colab_type": "text"
      },
      "source": [
        "<a href=\"https://colab.research.google.com/github/nomikk08/Python/blob/main/face_detection.ipynb\" target=\"_parent\"><img src=\"https://colab.research.google.com/assets/colab-badge.svg\" alt=\"Open In Colab\"/></a>"
      ]
    },
    {
      "cell_type": "markdown",
      "metadata": {
        "id": "quo5ch2kQpOg"
      },
      "source": [
        "# Computer Vision Master Class- Face Detection"
      ]
    },
    {
      "cell_type": "markdown",
      "metadata": {
        "id": "KbOltM_lQ6ZL"
      },
      "source": [
        "## OpenCV"
      ]
    },
    {
      "cell_type": "markdown",
      "metadata": {
        "id": "aIa4v0tPRU5q"
      },
      "source": [
        "### Loading the Image"
      ]
    },
    {
      "cell_type": "code",
      "metadata": {
        "id": "P1_fKdz9Qng9"
      },
      "source": [
        "# cv2 is the name of openCV library\n",
        "import cv2"
      ],
      "execution_count": 1,
      "outputs": []
    },
    {
      "cell_type": "code",
      "metadata": {
        "id": "0ayX0HmdRqLJ"
      },
      "source": [
        ""
      ],
      "execution_count": null,
      "outputs": []
    }
  ]
}