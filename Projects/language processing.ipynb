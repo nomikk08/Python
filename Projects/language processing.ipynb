{
 "cells": [
  {
   "cell_type": "code",
   "execution_count": 8,
   "metadata": {},
   "outputs": [
    {
     "data": {
      "text/plain": [
       "\"This is my test text. We're keeping this text short to make things manageable\""
      ]
     },
     "execution_count": 8,
     "metadata": {},
     "output_type": "execute_result"
    }
   ],
   "source": [
    "text = \"This is my test text. We're keeping this text short to make things manageable\"\n",
    "text"
   ]
  },
  {
   "cell_type": "code",
   "execution_count": 9,
   "metadata": {},
   "outputs": [
    {
     "data": {
      "text/plain": [
       "['This',\n",
       " 'is',\n",
       " 'my',\n",
       " 'test',\n",
       " 'text.',\n",
       " \"We're\",\n",
       " 'keeping',\n",
       " 'this',\n",
       " 'text',\n",
       " 'short',\n",
       " 'to',\n",
       " 'make',\n",
       " 'things',\n",
       " 'manageable']"
      ]
     },
     "execution_count": 9,
     "metadata": {},
     "output_type": "execute_result"
    }
   ],
   "source": [
    "text.split()"
   ]
  },
  {
   "cell_type": "code",
   "execution_count": 10,
   "metadata": {},
   "outputs": [
    {
     "data": {
      "text/plain": [
       "['This',\n",
       " 'is',\n",
       " 'my',\n",
       " 'test',\n",
       " 'text.',\n",
       " \"We're\",\n",
       " 'keeping',\n",
       " 'this',\n",
       " 'text',\n",
       " 'short',\n",
       " 'to',\n",
       " 'make',\n",
       " 'things',\n",
       " 'manageable']"
      ]
     },
     "execution_count": 10,
     "metadata": {},
     "output_type": "execute_result"
    }
   ],
   "source": [
    "text.split(' ')"
   ]
  },
  {
   "cell_type": "code",
   "execution_count": 11,
   "metadata": {},
   "outputs": [],
   "source": [
    "#function for counting of words and replacing the special characters\n",
    "text = \"This is my test text. We're keeping this text short to make things manageable\"\n",
    "def count_word(text):\n",
    "    \n",
    "    text = text.lower()\n",
    "    skips = [\".\", \",\", \":\", \";\", \"'\", '\"']\n",
    "    for ch  in skips:\n",
    "        text = text.replace(ch, \"\")\n",
    "        \n",
    "    word_count= {}\n",
    "    for word in text.split(' '):\n",
    "        if word in word_count:\n",
    "            word_count[word] += 1\n",
    "        else:\n",
    "            word_count[word] = 1\n",
    "    return word_count"
   ]
  },
  {
   "cell_type": "code",
   "execution_count": 12,
   "metadata": {},
   "outputs": [
    {
     "data": {
      "text/plain": [
       "{'this': 2,\n",
       " 'is': 1,\n",
       " 'my': 1,\n",
       " 'test': 1,\n",
       " 'text': 2,\n",
       " 'were': 1,\n",
       " 'keeping': 1,\n",
       " 'short': 1,\n",
       " 'to': 1,\n",
       " 'make': 1,\n",
       " 'things': 1,\n",
       " 'manageable': 1}"
      ]
     },
     "execution_count": 12,
     "metadata": {},
     "output_type": "execute_result"
    }
   ],
   "source": [
    "count_word(text)"
   ]
  },
  {
   "cell_type": "code",
   "execution_count": 13,
   "metadata": {},
   "outputs": [],
   "source": [
    "#function for counting of words with built in function and replacing the special characters\n",
    "from collections import Counter\n",
    "\n",
    "def count_word_fast(text):\n",
    "    \n",
    "    text = text.lower()\n",
    "    skips = [\".\", \",\", \":\", \";\", \"'\", '\"']\n",
    "    for ch  in skips:\n",
    "        text = text.replace(ch, \"\")\n",
    "        \n",
    "    word_count = Counter(text.split(\" \"))\n",
    "    return word_count"
   ]
  },
  {
   "cell_type": "code",
   "execution_count": 14,
   "metadata": {},
   "outputs": [
    {
     "data": {
      "text/plain": [
       "Counter({'this': 2,\n",
       "         'is': 1,\n",
       "         'my': 1,\n",
       "         'test': 1,\n",
       "         'text': 2,\n",
       "         'were': 1,\n",
       "         'keeping': 1,\n",
       "         'short': 1,\n",
       "         'to': 1,\n",
       "         'make': 1,\n",
       "         'things': 1,\n",
       "         'manageable': 1})"
      ]
     },
     "execution_count": 14,
     "metadata": {},
     "output_type": "execute_result"
    }
   ],
   "source": [
    "count_word_fast(text)"
   ]
  },
  {
   "cell_type": "code",
   "execution_count": 15,
   "metadata": {},
   "outputs": [
    {
     "data": {
      "text/plain": [
       "True"
      ]
     },
     "execution_count": 15,
     "metadata": {},
     "output_type": "execute_result"
    }
   ],
   "source": [
    "count_word(text)==count_word_fast(text)"
   ]
  },
  {
   "cell_type": "code",
   "execution_count": 16,
   "metadata": {},
   "outputs": [],
   "source": [
    "#function for reading a file and replacing \\n and \\r\n",
    "def read_book(tittle_path):\n",
    "    with open (tittle_path, 'r',  encoding='utf8') as current_file:\n",
    "        text = current_file.read()\n",
    "        text = text.replace('\\n', '').replace('\\r', '')\n",
    "    return text"
   ]
  },
  {
   "cell_type": "code",
   "execution_count": 17,
   "metadata": {},
   "outputs": [],
   "source": [
    "text = read_book(\"./Desktop/Books/English/shakespeare/Romeo and Juliet.txt\")"
   ]
  },
  {
   "cell_type": "code",
   "execution_count": 18,
   "metadata": {},
   "outputs": [
    {
     "data": {
      "text/plain": [
       "169275"
      ]
     },
     "execution_count": 18,
     "metadata": {},
     "output_type": "execute_result"
    }
   ],
   "source": [
    "len(text)"
   ]
  },
  {
   "cell_type": "code",
   "execution_count": 19,
   "metadata": {},
   "outputs": [],
   "source": [
    "ind = text.find(\"What's in a name\")"
   ]
  },
  {
   "cell_type": "code",
   "execution_count": 20,
   "metadata": {},
   "outputs": [
    {
     "data": {
      "text/plain": [
       "42757"
      ]
     },
     "execution_count": 20,
     "metadata": {},
     "output_type": "execute_result"
    }
   ],
   "source": [
    "ind"
   ]
  },
  {
   "cell_type": "code",
   "execution_count": 21,
   "metadata": {},
   "outputs": [],
   "source": [
    "sample_text = text[ind : ind+1000]"
   ]
  },
  {
   "cell_type": "code",
   "execution_count": 22,
   "metadata": {},
   "outputs": [
    {
     "data": {
      "text/plain": [
       "\"What's in a name? That which we call a rose    By any other name would smell as sweet.    So Romeo would, were he not Romeo call'd,    Retain that dear perfection which he owes    Without that title. Romeo, doff thy name;    And for that name, which is no part of thee,    Take all myself.  Rom. I take thee at thy word.    Call me but love, and I'll be new baptiz'd;    Henceforth I never will be Romeo.  Jul. What man art thou that, thus bescreen'd in night,    So stumblest on my counsel?  Rom. By a name    I know not how to tell thee who I am.    My name, dear saint, is hateful to myself,    Because it is an enemy to thee.    Had I it written, I would tear the word.  Jul. My ears have yet not drunk a hundred words    Of that tongue's utterance, yet I know the sound.    Art thou not Romeo, and a Montague?  Rom. Neither, fair saint, if either thee dislike.  Jul. How cam'st thou hither, tell me, and wherefore?    The orchard walls are high and hard to climb,    And the place death, conside\""
      ]
     },
     "execution_count": 22,
     "metadata": {},
     "output_type": "execute_result"
    }
   ],
   "source": [
    "sample_text"
   ]
  },
  {
   "cell_type": "code",
   "execution_count": 23,
   "metadata": {},
   "outputs": [],
   "source": [
    "word_count = count_word(text)"
   ]
  },
  {
   "cell_type": "code",
   "execution_count": 24,
   "metadata": {},
   "outputs": [
    {
     "data": {
      "text/plain": [
       "5118"
      ]
     },
     "execution_count": 24,
     "metadata": {},
     "output_type": "execute_result"
    }
   ],
   "source": [
    "len(word_count)"
   ]
  },
  {
   "cell_type": "code",
   "execution_count": 25,
   "metadata": {},
   "outputs": [],
   "source": [
    "#function for counting unique and total words from a count_word(text) function \n",
    "def word_stats(word_count):\n",
    "    num_unique = len(word_count)\n",
    "    counts = sum(word_count.values())\n",
    "    return(num_unique,counts)"
   ]
  },
  {
   "cell_type": "code",
   "execution_count": 26,
   "metadata": {},
   "outputs": [],
   "source": [
    "word_count=count_word(text)"
   ]
  },
  {
   "cell_type": "code",
   "execution_count": 27,
   "metadata": {},
   "outputs": [
    {
     "data": {
      "text/plain": [
       "(5118, 40776)"
      ]
     },
     "execution_count": 27,
     "metadata": {},
     "output_type": "execute_result"
    }
   ],
   "source": [
    "word_stats(word_count)"
   ]
  },
  {
   "cell_type": "code",
   "execution_count": 28,
   "metadata": {},
   "outputs": [
    {
     "data": {
      "text/plain": [
       "(5118, 40776)"
      ]
     },
     "execution_count": 28,
     "metadata": {},
     "output_type": "execute_result"
    }
   ],
   "source": [
    "#counting unique and total words from english romeo and juliet\n",
    "text = read_book(\"./Desktop/Books/English/shakespeare/Romeo and Juliet.txt\")\n",
    "word_count=count_word(text)\n",
    "word_stats(word_count)"
   ]
  },
  {
   "cell_type": "code",
   "execution_count": 29,
   "metadata": {},
   "outputs": [
    {
     "data": {
      "text/plain": [
       "(7527, 20311)"
      ]
     },
     "execution_count": 29,
     "metadata": {},
     "output_type": "execute_result"
    }
   ],
   "source": [
    "#counting unique and total words from english romeo and juliet\n",
    "text = read_book(\"./Desktop/Books/German/shakespeare/Romeo und Julia.txt\")\n",
    "word_count=count_word(text)\n",
    "word_stats(word_count)"
   ]
  },
  {
   "cell_type": "code",
   "execution_count": 37,
   "metadata": {},
   "outputs": [],
   "source": [
    "#os module reads the directories in the operating system\n",
    "import os\n",
    "books_dir = \"./Desktop/Books\""
   ]
  },
  {
   "cell_type": "code",
   "execution_count": 38,
   "metadata": {},
   "outputs": [
    {
     "data": {
      "text/plain": [
       "['English', 'French', 'German', 'Portuguese']"
      ]
     },
     "execution_count": 38,
     "metadata": {},
     "output_type": "execute_result"
    }
   ],
   "source": [
    "# os.listdir() lists the sub directories of the given directory\n",
    "os.listdir(books_dir)"
   ]
  },
  {
   "cell_type": "code",
   "execution_count": 54,
   "metadata": {},
   "outputs": [
    {
     "name": "stdout",
     "output_type": "stream",
     "text": [
      "./desktop/Books/English/shakespeare/A Midsummer Night's Dream.txt\n",
      "The unique numbers are 4345 The unique numbers are 16103\n",
      "./desktop/Books/English/shakespeare/Hamlet.txt\n",
      "The unique numbers are 6776 The unique numbers are 28551\n",
      "./desktop/Books/English/shakespeare/Macbeth.txt\n",
      "The unique numbers are 4780 The unique numbers are 16874\n",
      "./desktop/Books/English/shakespeare/Othello.txt\n",
      "The unique numbers are 5898 The unique numbers are 26590\n",
      "./desktop/Books/English/shakespeare/Richard III.txt\n",
      "The unique numbers are 5449 The unique numbers are 48315\n",
      "./desktop/Books/English/shakespeare/Romeo and Juliet.txt\n",
      "The unique numbers are 5118 The unique numbers are 40776\n",
      "./desktop/Books/English/shakespeare/The Merchant of Venice.txt\n",
      "The unique numbers are 4978 The unique numbers are 20949\n",
      "./desktop/Books/French/chevalier/L'enfer et le paradis de l'autre monde.txt\n",
      "The unique numbers are 10831 The unique numbers are 40827\n",
      "./desktop/Books/French/chevalier/L'åle de sable.txt\n",
      "The unique numbers are 18989 The unique numbers are 73801\n",
      "./desktop/Books/French/chevalier/La capitaine.txt\n",
      "The unique numbers are 13083 The unique numbers are 46306\n",
      "./desktop/Books/French/chevalier/La fille des indiens rouges.txt\n",
      "The unique numbers are 17875 The unique numbers are 66621\n",
      "./desktop/Books/French/chevalier/La fille du pirate.txt\n",
      "The unique numbers are 14649 The unique numbers are 52519\n",
      "./desktop/Books/French/chevalier/Le chasseur noir.txt\n",
      "The unique numbers are 12945 The unique numbers are 51341\n",
      "./desktop/Books/French/chevalier/Les derniers Iroquois.txt\n",
      "The unique numbers are 15583 The unique numbers are 55565\n",
      "./desktop/Books/French/de Maupassant/Boule de Suif.txt\n",
      "The unique numbers are 10725 The unique numbers are 35905\n",
      "./desktop/Books/French/de Maupassant/Claire de Lune.txt\n",
      "The unique numbers are 8076 The unique numbers are 25975\n",
      "./desktop/Books/French/de Maupassant/Contes de la Becasse.txt\n",
      "The unique numbers are 10210 The unique numbers are 34723\n",
      "./desktop/Books/French/de Maupassant/L'inutile beautÇ.txt\n",
      "The unique numbers are 10781 The unique numbers are 37840\n",
      "./desktop/Books/French/de Maupassant/La Main Gauche.txt\n",
      "The unique numbers are 9983 The unique numbers are 33481\n",
      "./desktop/Books/French/de Maupassant/La Maison Tellier.txt\n",
      "The unique numbers are 12305 The unique numbers are 43685\n",
      "./desktop/Books/French/de Maupassant/La petite roque.txt\n",
      "The unique numbers are 10890 The unique numbers are 40688\n",
      "./desktop/Books/French/de Maupassant/Le Horla.txt\n",
      "The unique numbers are 11091 The unique numbers are 41485\n",
      "./desktop/Books/French/de Maupassant/Œuvres complètes de Guy de Maupassant.txt\n",
      "The unique numbers are 15028 The unique numbers are 54772\n",
      "./desktop/Books/French/diderot/Ceci n'est pas un conte.txt\n",
      "The unique numbers are 3674 The unique numbers are 10938\n",
      "./desktop/Books/French/diderot/Entretien d'un päre avec ses enfants.txt\n",
      "The unique numbers are 3720 The unique numbers are 11125\n",
      "./desktop/Books/French/diderot/L'oiseau blanc.txt\n",
      "The unique numbers are 6337 The unique numbers are 21973\n",
      "./desktop/Books/French/diderot/Les deux amis de Bourbonne.txt\n",
      "The unique numbers are 2929 The unique numbers are 8510\n",
      "./desktop/Books/French/diderot/Regrets sur ma vieille robe de chambre.txt\n",
      "The unique numbers are 1876 The unique numbers are 4980\n",
      "./desktop/Books/French/sand/cora.txt\n",
      "The unique numbers are 4370 The unique numbers are 12370\n",
      "./desktop/Books/French/sand/Jacques le fataliste et son maåtre.txt\n",
      "The unique numbers are 18744 The unique numbers are 85756\n",
      "./desktop/Books/French/sand/L' Orco.txt\n",
      "The unique numbers are 3162 The unique numbers are 8748\n",
      "./desktop/Books/French/sand/La Coupe; Lupo Liverani; Le Toast; Garnier; Le Contrebandier; La Ràverie Ö Paris.txt\n",
      "The unique numbers are 12540 The unique numbers are 47831\n",
      "./desktop/Books/French/sand/La Marquise.txt\n",
      "The unique numbers are 4786 The unique numbers are 14716\n",
      "./desktop/Books/French/sand/Le Piccinino.txt\n",
      "The unique numbers are 27435 The unique numbers are 151405\n",
      "./desktop/Books/French/sand/Le poâme de Myrza.txt\n",
      "The unique numbers are 4348 The unique numbers are 12771\n",
      "./desktop/Books/French/sand/Mattea.txt\n",
      "The unique numbers are 6429 The unique numbers are 21089\n",
      "./desktop/Books/French/sand/Metella.txt\n",
      "The unique numbers are 5715 The unique numbers are 19600\n",
      "./desktop/Books/French/sand/Oeuvres illustrÇes de George Sand.txt\n",
      "The unique numbers are 7503 The unique numbers are 23210\n",
      "./desktop/Books/French/sand/Pauline.txt\n",
      "The unique numbers are 7901 The unique numbers are 27486\n",
      "./desktop/Books/German/lessing/der freigeist.txt\n",
      "The unique numbers are 6319 The unique numbers are 23660\n",
      "./desktop/Books/German/lessing/der junge gelehrte.txt\n",
      "The unique numbers are 7231 The unique numbers are 28155\n",
      "./desktop/Books/German/lessing/die juden.txt\n",
      "The unique numbers are 3887 The unique numbers are 12143\n",
      "./desktop/Books/German/lessing/emilia galotti.txt\n",
      "The unique numbers are 6631 The unique numbers are 20484\n",
      "./desktop/Books/German/lessing/hamburgische dramaturgie.txt\n",
      "The unique numbers are 29192 The unique numbers are 143699\n",
      "./desktop/Books/German/lessing/minna von barnhelm.txt\n",
      "The unique numbers are 7345 The unique numbers are 23863\n",
      "./desktop/Books/German/lessing/miss sara sampson.txt\n",
      "The unique numbers are 7231 The unique numbers are 28148\n",
      "./desktop/Books/German/lessing/philotas.txt\n",
      "The unique numbers are 3278 The unique numbers are 9535\n",
      "./desktop/Books/German/raimund/Das MÑdchen aus der Feenwelt.txt\n",
      "The unique numbers are 6443 The unique numbers are 21040\n",
      "./desktop/Books/German/raimund/Der Alpenkînig und der Menschenfeind.txt\n",
      "The unique numbers are 6996 The unique numbers are 21802\n",
      "./desktop/Books/German/raimund/Der Barometermacher auf der Zauberinsel.txt\n",
      "The unique numbers are 5318 The unique numbers are 16032\n",
      "./desktop/Books/German/raimund/Der Diamant des Geisterkînigs.txt\n",
      "The unique numbers are 5968 The unique numbers are 18855\n",
      "./desktop/Books/German/raimund/Der Verschwender.txt\n",
      "The unique numbers are 7423 The unique numbers are 25106\n",
      "./desktop/Books/German/raimund/Die gefesselte Phantasie.txt\n",
      "The unique numbers are 5823 The unique numbers are 16651\n",
      "./desktop/Books/German/raimund/Die unheilbringende Krone.txt\n",
      "The unique numbers are 7548 The unique numbers are 24701\n",
      "./desktop/Books/German/raimund/Moisasurs Zauberfluch.txt\n",
      "The unique numbers are 5738 The unique numbers are 17912\n",
      "./desktop/Books/German/schiller/Der Neffe als Onkel.txt\n",
      "The unique numbers are 4416 The unique numbers are 14349\n",
      "./desktop/Books/German/schiller/Der Parasit, oder die Kunst, sein GlÅck zu machen.txt\n",
      "The unique numbers are 6159 The unique numbers are 20450\n",
      "./desktop/Books/German/schiller/die braut von messina.txt\n",
      "The unique numbers are 6655 The unique numbers are 26482\n",
      "./desktop/Books/German/schiller/Die Huldigung der KÅnste.txt\n",
      "The unique numbers are 1730 The unique numbers are 3919\n",
      "./desktop/Books/German/schiller/Die Jungfrau von Orleans.txt\n",
      "The unique numbers are 8806 The unique numbers are 24181\n",
      "./desktop/Books/German/schiller/Die Piccolomini.txt\n",
      "The unique numbers are 6763 The unique numbers are 35456\n",
      "./desktop/Books/German/schiller/Die Verschwîrung des Fiesco zu Genua.txt\n",
      "The unique numbers are 10371 The unique numbers are 31128\n",
      "./desktop/Books/German/schiller/Kabale und Liebe.txt\n",
      "The unique numbers are 9969 The unique numbers are 30929\n",
      "./desktop/Books/German/schiller/Turandot, Prinzessin von China.txt\n",
      "The unique numbers are 7550 The unique numbers are 21441\n",
      "./desktop/Books/German/schiller/Wallensteins Lager.txt\n",
      "The unique numbers are 4379 The unique numbers are 15443\n",
      "./desktop/Books/German/schiller/Wallensteins Tod.txt\n",
      "The unique numbers are 8649 The unique numbers are 50725\n",
      "./desktop/Books/German/shakespeare/Der Kaufmann von Venedig.txt\n",
      "The unique numbers are 7121 The unique numbers are 20600\n",
      "./desktop/Books/German/shakespeare/Ein Sommernachtstraum.txt\n",
      "The unique numbers are 6444 The unique numbers are 16648\n",
      "./desktop/Books/German/shakespeare/Hamlet.txt\n",
      "The unique numbers are 9642 The unique numbers are 31635\n",
      "./desktop/Books/German/shakespeare/Macbeth.txt\n",
      "The unique numbers are 6750 The unique numbers are 19311\n",
      "./desktop/Books/German/shakespeare/Othello.txt\n",
      "The unique numbers are 6793 The unique numbers are 16568\n",
      "./desktop/Books/German/shakespeare/Richard III.txt\n",
      "The unique numbers are 9191 The unique numbers are 25888\n",
      "./desktop/Books/German/shakespeare/Romeo und Julia.txt\n",
      "The unique numbers are 7527 The unique numbers are 20311\n",
      "./desktop/Books/Portuguese/branco/A Filha do Arcediago.txt\n"
     ]
    },
    {
     "name": "stdout",
     "output_type": "stream",
     "text": [
      "The unique numbers are 18238 The unique numbers are 74446\n",
      "./desktop/Books/Portuguese/branco/A Neta do Arcediago.txt\n",
      "The unique numbers are 14549 The unique numbers are 52996\n",
      "./desktop/Books/Portuguese/branco/A Queda d'um Anjo.txt\n",
      "The unique numbers are 15133 The unique numbers are 48022\n",
      "./desktop/Books/Portuguese/branco/Agulha em Palheiro.txt\n",
      "The unique numbers are 12761 The unique numbers are 43575\n",
      "./desktop/Books/Portuguese/branco/Amor de Perdição.txt\n",
      "The unique numbers are 12884 The unique numbers are 46751\n",
      "./desktop/Books/Portuguese/branco/Amor de Salvação.txt\n",
      "The unique numbers are 14337 The unique numbers are 47739\n",
      "./desktop/Books/Portuguese/branco/Annos de Prosa.txt\n",
      "The unique numbers are 16987 The unique numbers are 61473\n",
      "./desktop/Books/Portuguese/branco/Carlota Angela.txt\n",
      "The unique numbers are 13456 The unique numbers are 46927\n",
      "./desktop/Books/Portuguese/branco/Estrellas Funestas.txt\n",
      "The unique numbers are 13450 The unique numbers are 46709\n",
      "./desktop/Books/Portuguese/branco/Estrellas Prop°cias.txt\n",
      "The unique numbers are 12478 The unique numbers are 43445\n",
      "./desktop/Books/Portuguese/branco/Lagrimas Abenáoadas.txt\n",
      "The unique numbers are 12622 The unique numbers are 45182\n",
      "./desktop/Books/Portuguese/branco/Livro de Consolação.txt\n",
      "The unique numbers are 15871 The unique numbers are 54151\n",
      "./desktop/Books/Portuguese/branco/O Olho de Vidro.txt\n",
      "The unique numbers are 13180 The unique numbers are 45461\n",
      "./desktop/Books/Portuguese/branco/O que fazem mulheres.txt\n",
      "The unique numbers are 12316 The unique numbers are 41175\n",
      "./desktop/Books/Portuguese/branco/O Regicida.txt\n",
      "The unique numbers are 14779 The unique numbers are 50751\n",
      "./desktop/Books/Portuguese/branco/Scenas Contemporaneas.txt\n",
      "The unique numbers are 14395 The unique numbers are 48889\n",
      "./desktop/Books/Portuguese/dinis/A Morgadinha dos Cannaviaes.txt\n",
      "The unique numbers are 30728 The unique numbers are 134382\n",
      "./desktop/Books/Portuguese/dinis/Os fidalgos da Casa Mourisca.txt\n",
      "The unique numbers are 27834 The unique numbers are 130834\n",
      "./desktop/Books/Portuguese/dinis/Uma fam°lia ingleza.txt\n",
      "The unique numbers are 26786 The unique numbers are 109270\n",
      "./desktop/Books/Portuguese/Queir¢s/A Cidade e as Serras.txt\n",
      "The unique numbers are 19230 The unique numbers are 65225\n",
      "./desktop/Books/Portuguese/Queir¢s/A correspondància de Fradique Mendes.txt\n",
      "The unique numbers are 16648 The unique numbers are 52982\n",
      "./desktop/Books/Portuguese/Queir¢s/A Illustre Casa de Ramires.txt\n",
      "The unique numbers are 25353 The unique numbers are 98218\n",
      "./desktop/Books/Portuguese/Queir¢s/A Rel°quia.txt\n",
      "The unique numbers are 21399 The unique numbers are 77627\n",
      "./desktop/Books/Portuguese/Queir¢s/Cartas de Inglaterra.txt\n",
      "The unique numbers are 13898 The unique numbers are 44293\n",
      "./desktop/Books/Portuguese/Queir¢s/O crime do padre Amaro.txt\n",
      "The unique numbers are 29300 The unique numbers are 128630\n",
      "./desktop/Books/Portuguese/Queir¢s/O Mandarim.txt\n",
      "The unique numbers are 7836 The unique numbers are 21440\n",
      "./desktop/Books/Portuguese/Queir¢s/O Primo Bazilio.txt\n",
      "The unique numbers are 27644 The unique numbers are 107303\n",
      "./desktop/Books/Portuguese/Queir¢s/Os Maias.txt\n",
      "The unique numbers are 40665 The unique numbers are 195771\n",
      "./desktop/Books/Portuguese/shakespeare/Hamlet.txt\n",
      "The unique numbers are 9700 The unique numbers are 30567\n"
     ]
    }
   ],
   "source": [
    "# shows the book path and name, calculate the total words and unique words from each book\n",
    "import os\n",
    "books_dir = \"./desktop/Books\"\n",
    "os.listdir(books_dir)\n",
    "for language in os.listdir(books_dir):\n",
    "    for authors in os.listdir(books_dir + \"/\" + language):\n",
    "        for tittle in os.listdir(books_dir + \"/\" + language + \"/\" + authors):\n",
    "            inputfile = (books_dir + \"/\" + language + \"/\" + authors + \"/\" + tittle)\n",
    "            print(inputfile)\n",
    "            text = read_book(inputfile)\n",
    "            (num_unique,counts) = word_stats(count_word(text))\n",
    "            print(\"The unique numbers are \" + str(num_unique), \"The unique numbers are \" + str(counts))\n",
    "            "
   ]
  },
  {
   "cell_type": "code",
   "execution_count": 59,
   "metadata": {},
   "outputs": [
    {
     "data": {
      "text/html": [
       "<div>\n",
       "<style scoped>\n",
       "    .dataframe tbody tr th:only-of-type {\n",
       "        vertical-align: middle;\n",
       "    }\n",
       "\n",
       "    .dataframe tbody tr th {\n",
       "        vertical-align: top;\n",
       "    }\n",
       "\n",
       "    .dataframe thead th {\n",
       "        text-align: right;\n",
       "    }\n",
       "</style>\n",
       "<table border=\"1\" class=\"dataframe\">\n",
       "  <thead>\n",
       "    <tr style=\"text-align: right;\">\n",
       "      <th></th>\n",
       "      <th>Name</th>\n",
       "      <th>Age</th>\n",
       "    </tr>\n",
       "  </thead>\n",
       "  <tbody>\n",
       "    <tr>\n",
       "      <td>1</td>\n",
       "      <td>Noman</td>\n",
       "      <td>24</td>\n",
       "    </tr>\n",
       "    <tr>\n",
       "      <td>2</td>\n",
       "      <td>Umair</td>\n",
       "      <td>26</td>\n",
       "    </tr>\n",
       "  </tbody>\n",
       "</table>\n",
       "</div>"
      ],
      "text/plain": [
       "    Name Age\n",
       "1  Noman  24\n",
       "2  Umair  26"
      ]
     },
     "execution_count": 59,
     "metadata": {},
     "output_type": "execute_result"
    }
   ],
   "source": [
    "import pandas as pd\n",
    "table = pd.DataFrame(columns = (\"Name\" , \"Age\"))\n",
    "table.loc[1] = \"Noman\" , \"24\"\n",
    "table.loc[2] = \"Umair\" , \"26\"\n",
    "table"
   ]
  },
  {
   "cell_type": "code",
   "execution_count": 79,
   "metadata": {},
   "outputs": [
    {
     "name": "stdout",
     "output_type": "stream",
     "text": [
      "./desktop/Books/English/shakespeare/A Midsummer Night's Dream.txt\n",
      "./desktop/Books/English/shakespeare/Hamlet.txt\n",
      "./desktop/Books/English/shakespeare/Macbeth.txt\n",
      "./desktop/Books/English/shakespeare/Othello.txt\n",
      "./desktop/Books/English/shakespeare/Richard III.txt\n",
      "./desktop/Books/English/shakespeare/Romeo and Juliet.txt\n",
      "./desktop/Books/English/shakespeare/The Merchant of Venice.txt\n",
      "./desktop/Books/French/chevalier/L'enfer et le paradis de l'autre monde.txt\n",
      "./desktop/Books/French/chevalier/L'åle de sable.txt\n",
      "./desktop/Books/French/chevalier/La capitaine.txt\n",
      "./desktop/Books/French/chevalier/La fille des indiens rouges.txt\n",
      "./desktop/Books/French/chevalier/La fille du pirate.txt\n",
      "./desktop/Books/French/chevalier/Le chasseur noir.txt\n",
      "./desktop/Books/French/chevalier/Les derniers Iroquois.txt\n",
      "./desktop/Books/French/de Maupassant/Boule de Suif.txt\n",
      "./desktop/Books/French/de Maupassant/Claire de Lune.txt\n",
      "./desktop/Books/French/de Maupassant/Contes de la Becasse.txt\n",
      "./desktop/Books/French/de Maupassant/L'inutile beautÇ.txt\n",
      "./desktop/Books/French/de Maupassant/La Main Gauche.txt\n",
      "./desktop/Books/French/de Maupassant/La Maison Tellier.txt\n",
      "./desktop/Books/French/de Maupassant/La petite roque.txt\n",
      "./desktop/Books/French/de Maupassant/Le Horla.txt\n",
      "./desktop/Books/French/de Maupassant/Œuvres complètes de Guy de Maupassant.txt\n",
      "./desktop/Books/French/diderot/Ceci n'est pas un conte.txt\n",
      "./desktop/Books/French/diderot/Entretien d'un päre avec ses enfants.txt\n",
      "./desktop/Books/French/diderot/L'oiseau blanc.txt\n",
      "./desktop/Books/French/diderot/Les deux amis de Bourbonne.txt\n",
      "./desktop/Books/French/diderot/Regrets sur ma vieille robe de chambre.txt\n",
      "./desktop/Books/French/sand/cora.txt\n",
      "./desktop/Books/French/sand/Jacques le fataliste et son maåtre.txt\n",
      "./desktop/Books/French/sand/L' Orco.txt\n",
      "./desktop/Books/French/sand/La Coupe; Lupo Liverani; Le Toast; Garnier; Le Contrebandier; La Ràverie Ö Paris.txt\n",
      "./desktop/Books/French/sand/La Marquise.txt\n",
      "./desktop/Books/French/sand/Le Piccinino.txt\n",
      "./desktop/Books/French/sand/Le poâme de Myrza.txt\n",
      "./desktop/Books/French/sand/Mattea.txt\n",
      "./desktop/Books/French/sand/Metella.txt\n",
      "./desktop/Books/French/sand/Oeuvres illustrÇes de George Sand.txt\n",
      "./desktop/Books/French/sand/Pauline.txt\n",
      "./desktop/Books/German/lessing/der freigeist.txt\n",
      "./desktop/Books/German/lessing/der junge gelehrte.txt\n",
      "./desktop/Books/German/lessing/die juden.txt\n",
      "./desktop/Books/German/lessing/emilia galotti.txt\n",
      "./desktop/Books/German/lessing/hamburgische dramaturgie.txt\n",
      "./desktop/Books/German/lessing/minna von barnhelm.txt\n",
      "./desktop/Books/German/lessing/miss sara sampson.txt\n",
      "./desktop/Books/German/lessing/philotas.txt\n",
      "./desktop/Books/German/raimund/Das MÑdchen aus der Feenwelt.txt\n",
      "./desktop/Books/German/raimund/Der Alpenkînig und der Menschenfeind.txt\n",
      "./desktop/Books/German/raimund/Der Barometermacher auf der Zauberinsel.txt\n",
      "./desktop/Books/German/raimund/Der Diamant des Geisterkînigs.txt\n",
      "./desktop/Books/German/raimund/Der Verschwender.txt\n",
      "./desktop/Books/German/raimund/Die gefesselte Phantasie.txt\n",
      "./desktop/Books/German/raimund/Die unheilbringende Krone.txt\n",
      "./desktop/Books/German/raimund/Moisasurs Zauberfluch.txt\n",
      "./desktop/Books/German/schiller/Der Neffe als Onkel.txt\n",
      "./desktop/Books/German/schiller/Der Parasit, oder die Kunst, sein GlÅck zu machen.txt\n",
      "./desktop/Books/German/schiller/die braut von messina.txt\n",
      "./desktop/Books/German/schiller/Die Huldigung der KÅnste.txt\n",
      "./desktop/Books/German/schiller/Die Jungfrau von Orleans.txt\n",
      "./desktop/Books/German/schiller/Die Piccolomini.txt\n",
      "./desktop/Books/German/schiller/Die Verschwîrung des Fiesco zu Genua.txt\n",
      "./desktop/Books/German/schiller/Kabale und Liebe.txt\n",
      "./desktop/Books/German/schiller/Turandot, Prinzessin von China.txt\n",
      "./desktop/Books/German/schiller/Wallensteins Lager.txt\n",
      "./desktop/Books/German/schiller/Wallensteins Tod.txt\n",
      "./desktop/Books/German/shakespeare/Der Kaufmann von Venedig.txt\n",
      "./desktop/Books/German/shakespeare/Ein Sommernachtstraum.txt\n",
      "./desktop/Books/German/shakespeare/Hamlet.txt\n",
      "./desktop/Books/German/shakespeare/Macbeth.txt\n",
      "./desktop/Books/German/shakespeare/Othello.txt\n",
      "./desktop/Books/German/shakespeare/Richard III.txt\n",
      "./desktop/Books/German/shakespeare/Romeo und Julia.txt\n",
      "./desktop/Books/Portuguese/branco/A Filha do Arcediago.txt\n",
      "./desktop/Books/Portuguese/branco/A Neta do Arcediago.txt\n",
      "./desktop/Books/Portuguese/branco/A Queda d'um Anjo.txt\n",
      "./desktop/Books/Portuguese/branco/Agulha em Palheiro.txt\n",
      "./desktop/Books/Portuguese/branco/Amor de Perdição.txt\n",
      "./desktop/Books/Portuguese/branco/Amor de Salvação.txt\n",
      "./desktop/Books/Portuguese/branco/Annos de Prosa.txt\n",
      "./desktop/Books/Portuguese/branco/Carlota Angela.txt\n",
      "./desktop/Books/Portuguese/branco/Estrellas Funestas.txt\n",
      "./desktop/Books/Portuguese/branco/Estrellas Prop°cias.txt\n",
      "./desktop/Books/Portuguese/branco/Lagrimas Abenáoadas.txt\n",
      "./desktop/Books/Portuguese/branco/Livro de Consolação.txt\n",
      "./desktop/Books/Portuguese/branco/O Olho de Vidro.txt\n",
      "./desktop/Books/Portuguese/branco/O que fazem mulheres.txt\n",
      "./desktop/Books/Portuguese/branco/O Regicida.txt\n",
      "./desktop/Books/Portuguese/branco/Scenas Contemporaneas.txt\n",
      "./desktop/Books/Portuguese/dinis/A Morgadinha dos Cannaviaes.txt\n",
      "./desktop/Books/Portuguese/dinis/Os fidalgos da Casa Mourisca.txt\n",
      "./desktop/Books/Portuguese/dinis/Uma fam°lia ingleza.txt\n",
      "./desktop/Books/Portuguese/Queir¢s/A Cidade e as Serras.txt\n",
      "./desktop/Books/Portuguese/Queir¢s/A correspondància de Fradique Mendes.txt\n",
      "./desktop/Books/Portuguese/Queir¢s/A Illustre Casa de Ramires.txt\n",
      "./desktop/Books/Portuguese/Queir¢s/A Rel°quia.txt\n",
      "./desktop/Books/Portuguese/Queir¢s/Cartas de Inglaterra.txt\n",
      "./desktop/Books/Portuguese/Queir¢s/O crime do padre Amaro.txt\n",
      "./desktop/Books/Portuguese/Queir¢s/O Mandarim.txt\n",
      "./desktop/Books/Portuguese/Queir¢s/O Primo Bazilio.txt\n",
      "./desktop/Books/Portuguese/Queir¢s/Os Maias.txt\n",
      "./desktop/Books/Portuguese/shakespeare/Hamlet.txt\n"
     ]
    }
   ],
   "source": [
    "# storing the names of language, book and author, also storing \n",
    "#the number of total words and unique words in a book using pandas\n",
    "\n",
    "import os\n",
    "books_dir = \"./desktop/Books\"\n",
    "os.listdir(books_dir)\n",
    "import pandas as pd\n",
    "stats = pd.DataFrame(columns = (\"Language\", \"Author\", \"Tittle\", \"Unique\", \"Length\"))\n",
    "tittle_num = 1\n",
    "for language in os.listdir(books_dir):\n",
    "    for authors in os.listdir(books_dir + \"/\" + language):\n",
    "        for tittle in os.listdir(books_dir + \"/\" + language + \"/\" + authors):\n",
    "            inputfile = (books_dir + \"/\" + language + \"/\" + authors + \"/\" + tittle)\n",
    "            print(inputfile)\n",
    "            text = read_book(inputfile)\n",
    "            (num_unique,counts) = word_stats(count_word(text))\n",
    "            stats.loc[tittle_num] = language, authors.capitalize(), tittle.replace(\".txt\",\"\"), num_unique, counts\n",
    "            tittle_num +=1"
   ]
  },
  {
   "cell_type": "code",
   "execution_count": 80,
   "metadata": {},
   "outputs": [
    {
     "data": {
      "text/html": [
       "<div>\n",
       "<style scoped>\n",
       "    .dataframe tbody tr th:only-of-type {\n",
       "        vertical-align: middle;\n",
       "    }\n",
       "\n",
       "    .dataframe tbody tr th {\n",
       "        vertical-align: top;\n",
       "    }\n",
       "\n",
       "    .dataframe thead th {\n",
       "        text-align: right;\n",
       "    }\n",
       "</style>\n",
       "<table border=\"1\" class=\"dataframe\">\n",
       "  <thead>\n",
       "    <tr style=\"text-align: right;\">\n",
       "      <th></th>\n",
       "      <th>Language</th>\n",
       "      <th>Author</th>\n",
       "      <th>Tittle</th>\n",
       "      <th>Unique</th>\n",
       "      <th>Length</th>\n",
       "    </tr>\n",
       "  </thead>\n",
       "  <tbody>\n",
       "    <tr>\n",
       "      <td>1</td>\n",
       "      <td>English</td>\n",
       "      <td>Shakespeare</td>\n",
       "      <td>A Midsummer Night's Dream</td>\n",
       "      <td>4345</td>\n",
       "      <td>16103</td>\n",
       "    </tr>\n",
       "    <tr>\n",
       "      <td>2</td>\n",
       "      <td>English</td>\n",
       "      <td>Shakespeare</td>\n",
       "      <td>Hamlet</td>\n",
       "      <td>6776</td>\n",
       "      <td>28551</td>\n",
       "    </tr>\n",
       "    <tr>\n",
       "      <td>3</td>\n",
       "      <td>English</td>\n",
       "      <td>Shakespeare</td>\n",
       "      <td>Macbeth</td>\n",
       "      <td>4780</td>\n",
       "      <td>16874</td>\n",
       "    </tr>\n",
       "    <tr>\n",
       "      <td>4</td>\n",
       "      <td>English</td>\n",
       "      <td>Shakespeare</td>\n",
       "      <td>Othello</td>\n",
       "      <td>5898</td>\n",
       "      <td>26590</td>\n",
       "    </tr>\n",
       "    <tr>\n",
       "      <td>5</td>\n",
       "      <td>English</td>\n",
       "      <td>Shakespeare</td>\n",
       "      <td>Richard III</td>\n",
       "      <td>5449</td>\n",
       "      <td>48315</td>\n",
       "    </tr>\n",
       "    <tr>\n",
       "      <td>...</td>\n",
       "      <td>...</td>\n",
       "      <td>...</td>\n",
       "      <td>...</td>\n",
       "      <td>...</td>\n",
       "      <td>...</td>\n",
       "    </tr>\n",
       "    <tr>\n",
       "      <td>98</td>\n",
       "      <td>Portuguese</td>\n",
       "      <td>Queir¢s</td>\n",
       "      <td>O crime do padre Amaro</td>\n",
       "      <td>29300</td>\n",
       "      <td>128630</td>\n",
       "    </tr>\n",
       "    <tr>\n",
       "      <td>99</td>\n",
       "      <td>Portuguese</td>\n",
       "      <td>Queir¢s</td>\n",
       "      <td>O Mandarim</td>\n",
       "      <td>7836</td>\n",
       "      <td>21440</td>\n",
       "    </tr>\n",
       "    <tr>\n",
       "      <td>100</td>\n",
       "      <td>Portuguese</td>\n",
       "      <td>Queir¢s</td>\n",
       "      <td>O Primo Bazilio</td>\n",
       "      <td>27644</td>\n",
       "      <td>107303</td>\n",
       "    </tr>\n",
       "    <tr>\n",
       "      <td>101</td>\n",
       "      <td>Portuguese</td>\n",
       "      <td>Queir¢s</td>\n",
       "      <td>Os Maias</td>\n",
       "      <td>40665</td>\n",
       "      <td>195771</td>\n",
       "    </tr>\n",
       "    <tr>\n",
       "      <td>102</td>\n",
       "      <td>Portuguese</td>\n",
       "      <td>Shakespeare</td>\n",
       "      <td>Hamlet</td>\n",
       "      <td>9700</td>\n",
       "      <td>30567</td>\n",
       "    </tr>\n",
       "  </tbody>\n",
       "</table>\n",
       "<p>102 rows × 5 columns</p>\n",
       "</div>"
      ],
      "text/plain": [
       "       Language       Author                     Tittle Unique  Length\n",
       "1       English  Shakespeare  A Midsummer Night's Dream   4345   16103\n",
       "2       English  Shakespeare                     Hamlet   6776   28551\n",
       "3       English  Shakespeare                    Macbeth   4780   16874\n",
       "4       English  Shakespeare                    Othello   5898   26590\n",
       "5       English  Shakespeare                Richard III   5449   48315\n",
       "..          ...          ...                        ...    ...     ...\n",
       "98   Portuguese      Queir¢s     O crime do padre Amaro  29300  128630\n",
       "99   Portuguese      Queir¢s                 O Mandarim   7836   21440\n",
       "100  Portuguese      Queir¢s            O Primo Bazilio  27644  107303\n",
       "101  Portuguese      Queir¢s                   Os Maias  40665  195771\n",
       "102  Portuguese  Shakespeare                     Hamlet   9700   30567\n",
       "\n",
       "[102 rows x 5 columns]"
      ]
     },
     "execution_count": 80,
     "metadata": {},
     "output_type": "execute_result"
    }
   ],
   "source": [
    "stats"
   ]
  },
  {
   "cell_type": "code",
   "execution_count": 81,
   "metadata": {},
   "outputs": [
    {
     "data": {
      "text/html": [
       "<div>\n",
       "<style scoped>\n",
       "    .dataframe tbody tr th:only-of-type {\n",
       "        vertical-align: middle;\n",
       "    }\n",
       "\n",
       "    .dataframe tbody tr th {\n",
       "        vertical-align: top;\n",
       "    }\n",
       "\n",
       "    .dataframe thead th {\n",
       "        text-align: right;\n",
       "    }\n",
       "</style>\n",
       "<table border=\"1\" class=\"dataframe\">\n",
       "  <thead>\n",
       "    <tr style=\"text-align: right;\">\n",
       "      <th></th>\n",
       "      <th>Language</th>\n",
       "      <th>Author</th>\n",
       "      <th>Tittle</th>\n",
       "      <th>Unique</th>\n",
       "      <th>Length</th>\n",
       "    </tr>\n",
       "  </thead>\n",
       "  <tbody>\n",
       "    <tr>\n",
       "      <td>1</td>\n",
       "      <td>English</td>\n",
       "      <td>Shakespeare</td>\n",
       "      <td>A Midsummer Night's Dream</td>\n",
       "      <td>4345</td>\n",
       "      <td>16103</td>\n",
       "    </tr>\n",
       "    <tr>\n",
       "      <td>2</td>\n",
       "      <td>English</td>\n",
       "      <td>Shakespeare</td>\n",
       "      <td>Hamlet</td>\n",
       "      <td>6776</td>\n",
       "      <td>28551</td>\n",
       "    </tr>\n",
       "    <tr>\n",
       "      <td>3</td>\n",
       "      <td>English</td>\n",
       "      <td>Shakespeare</td>\n",
       "      <td>Macbeth</td>\n",
       "      <td>4780</td>\n",
       "      <td>16874</td>\n",
       "    </tr>\n",
       "    <tr>\n",
       "      <td>4</td>\n",
       "      <td>English</td>\n",
       "      <td>Shakespeare</td>\n",
       "      <td>Othello</td>\n",
       "      <td>5898</td>\n",
       "      <td>26590</td>\n",
       "    </tr>\n",
       "    <tr>\n",
       "      <td>5</td>\n",
       "      <td>English</td>\n",
       "      <td>Shakespeare</td>\n",
       "      <td>Richard III</td>\n",
       "      <td>5449</td>\n",
       "      <td>48315</td>\n",
       "    </tr>\n",
       "  </tbody>\n",
       "</table>\n",
       "</div>"
      ],
      "text/plain": [
       "  Language       Author                     Tittle Unique Length\n",
       "1  English  Shakespeare  A Midsummer Night's Dream   4345  16103\n",
       "2  English  Shakespeare                     Hamlet   6776  28551\n",
       "3  English  Shakespeare                    Macbeth   4780  16874\n",
       "4  English  Shakespeare                    Othello   5898  26590\n",
       "5  English  Shakespeare                Richard III   5449  48315"
      ]
     },
     "execution_count": 81,
     "metadata": {},
     "output_type": "execute_result"
    }
   ],
   "source": [
    "#shows the top 5 records\n",
    "stats.head()"
   ]
  },
  {
   "cell_type": "code",
   "execution_count": 82,
   "metadata": {},
   "outputs": [
    {
     "data": {
      "text/html": [
       "<div>\n",
       "<style scoped>\n",
       "    .dataframe tbody tr th:only-of-type {\n",
       "        vertical-align: middle;\n",
       "    }\n",
       "\n",
       "    .dataframe tbody tr th {\n",
       "        vertical-align: top;\n",
       "    }\n",
       "\n",
       "    .dataframe thead th {\n",
       "        text-align: right;\n",
       "    }\n",
       "</style>\n",
       "<table border=\"1\" class=\"dataframe\">\n",
       "  <thead>\n",
       "    <tr style=\"text-align: right;\">\n",
       "      <th></th>\n",
       "      <th>Language</th>\n",
       "      <th>Author</th>\n",
       "      <th>Tittle</th>\n",
       "      <th>Unique</th>\n",
       "      <th>Length</th>\n",
       "    </tr>\n",
       "  </thead>\n",
       "  <tbody>\n",
       "    <tr>\n",
       "      <td>98</td>\n",
       "      <td>Portuguese</td>\n",
       "      <td>Queir¢s</td>\n",
       "      <td>O crime do padre Amaro</td>\n",
       "      <td>29300</td>\n",
       "      <td>128630</td>\n",
       "    </tr>\n",
       "    <tr>\n",
       "      <td>99</td>\n",
       "      <td>Portuguese</td>\n",
       "      <td>Queir¢s</td>\n",
       "      <td>O Mandarim</td>\n",
       "      <td>7836</td>\n",
       "      <td>21440</td>\n",
       "    </tr>\n",
       "    <tr>\n",
       "      <td>100</td>\n",
       "      <td>Portuguese</td>\n",
       "      <td>Queir¢s</td>\n",
       "      <td>O Primo Bazilio</td>\n",
       "      <td>27644</td>\n",
       "      <td>107303</td>\n",
       "    </tr>\n",
       "    <tr>\n",
       "      <td>101</td>\n",
       "      <td>Portuguese</td>\n",
       "      <td>Queir¢s</td>\n",
       "      <td>Os Maias</td>\n",
       "      <td>40665</td>\n",
       "      <td>195771</td>\n",
       "    </tr>\n",
       "    <tr>\n",
       "      <td>102</td>\n",
       "      <td>Portuguese</td>\n",
       "      <td>Shakespeare</td>\n",
       "      <td>Hamlet</td>\n",
       "      <td>9700</td>\n",
       "      <td>30567</td>\n",
       "    </tr>\n",
       "  </tbody>\n",
       "</table>\n",
       "</div>"
      ],
      "text/plain": [
       "       Language       Author                  Tittle Unique  Length\n",
       "98   Portuguese      Queir¢s  O crime do padre Amaro  29300  128630\n",
       "99   Portuguese      Queir¢s              O Mandarim   7836   21440\n",
       "100  Portuguese      Queir¢s         O Primo Bazilio  27644  107303\n",
       "101  Portuguese      Queir¢s                Os Maias  40665  195771\n",
       "102  Portuguese  Shakespeare                  Hamlet   9700   30567"
      ]
     },
     "execution_count": 82,
     "metadata": {},
     "output_type": "execute_result"
    }
   ],
   "source": [
    "#shows the below 5 records\n",
    "stats.tail()"
   ]
  },
  {
   "cell_type": "code",
   "execution_count": 83,
   "metadata": {},
   "outputs": [],
   "source": [
    "stats.to_csv(\"stats.csv\")"
   ]
  },
  {
   "cell_type": "code",
   "execution_count": 85,
   "metadata": {},
   "outputs": [
    {
     "data": {
      "text/plain": [
       "1       4345\n",
       "2       6776\n",
       "3       4780\n",
       "4       5898\n",
       "5       5449\n",
       "       ...  \n",
       "98     29300\n",
       "99      7836\n",
       "100    27644\n",
       "101    40665\n",
       "102     9700\n",
       "Name: Unique, Length: 102, dtype: object"
      ]
     },
     "execution_count": 85,
     "metadata": {},
     "output_type": "execute_result"
    }
   ],
   "source": [
    "#accessing the attributes\n",
    "stats.Unique"
   ]
  },
  {
   "cell_type": "code",
   "execution_count": 87,
   "metadata": {},
   "outputs": [
    {
     "data": {
      "text/plain": [
       "143699"
      ]
     },
     "execution_count": 87,
     "metadata": {},
     "output_type": "execute_result"
    }
   ],
   "source": [
    "#accessing the particular data of attribute\n",
    "stats.Length[44]"
   ]
  },
  {
   "cell_type": "code",
   "execution_count": 89,
   "metadata": {},
   "outputs": [
    {
     "data": {
      "image/png": "[encoded data removed]",
      "text/plain": [
       "<Figure size 432x288 with 1 Axes>"
      ]
     },
     "metadata": {
      "needs_background": "light"
     },
     "output_type": "display_data"
    }
   ],
   "source": [
    "import matplotlib.pyplot as plt\n",
    "plt.plot(stats.Length, stats.Unique, \"bo\")\n",
    "plt.show()"
   ]
  },
  {
   "cell_type": "code",
   "execution_count": 90,
   "metadata": {},
   "outputs": [
    {
     "data": {
      "text/plain": [
       "[<matplotlib.lines.Line2D at 0x24bf0627e48>]"
      ]
     },
     "execution_count": 90,
     "metadata": {},
     "output_type": "execute_result"
    },
    {
     "data": {
      "image/png": "[encoded data removed]",
      "text/plain": [
       "<Figure size 432x288 with 1 Axes>"
      ]
     },
     "metadata": {
      "needs_background": "light"
     },
     "output_type": "display_data"
    }
   ],
   "source": [
    "#plot both x and y axis logarithimacly\n",
    "plt.loglog(stats.Length, stats.Unique, \"bo\")"
   ]
  },
  {
   "cell_type": "code",
   "execution_count": 93,
   "metadata": {},
   "outputs": [
    {
     "data": {
      "text/html": [
       "<div>\n",
       "<style scoped>\n",
       "    .dataframe tbody tr th:only-of-type {\n",
       "        vertical-align: middle;\n",
       "    }\n",
       "\n",
       "    .dataframe tbody tr th {\n",
       "        vertical-align: top;\n",
       "    }\n",
       "\n",
       "    .dataframe thead th {\n",
       "        text-align: right;\n",
       "    }\n",
       "</style>\n",
       "<table border=\"1\" class=\"dataframe\">\n",
       "  <thead>\n",
       "    <tr style=\"text-align: right;\">\n",
       "      <th></th>\n",
       "      <th>Language</th>\n",
       "      <th>Author</th>\n",
       "      <th>Tittle</th>\n",
       "      <th>Unique</th>\n",
       "      <th>Length</th>\n",
       "    </tr>\n",
       "  </thead>\n",
       "  <tbody>\n",
       "    <tr>\n",
       "      <td>1</td>\n",
       "      <td>English</td>\n",
       "      <td>Shakespeare</td>\n",
       "      <td>A Midsummer Night's Dream</td>\n",
       "      <td>4345</td>\n",
       "      <td>16103</td>\n",
       "    </tr>\n",
       "    <tr>\n",
       "      <td>2</td>\n",
       "      <td>English</td>\n",
       "      <td>Shakespeare</td>\n",
       "      <td>Hamlet</td>\n",
       "      <td>6776</td>\n",
       "      <td>28551</td>\n",
       "    </tr>\n",
       "    <tr>\n",
       "      <td>3</td>\n",
       "      <td>English</td>\n",
       "      <td>Shakespeare</td>\n",
       "      <td>Macbeth</td>\n",
       "      <td>4780</td>\n",
       "      <td>16874</td>\n",
       "    </tr>\n",
       "    <tr>\n",
       "      <td>4</td>\n",
       "      <td>English</td>\n",
       "      <td>Shakespeare</td>\n",
       "      <td>Othello</td>\n",
       "      <td>5898</td>\n",
       "      <td>26590</td>\n",
       "    </tr>\n",
       "    <tr>\n",
       "      <td>5</td>\n",
       "      <td>English</td>\n",
       "      <td>Shakespeare</td>\n",
       "      <td>Richard III</td>\n",
       "      <td>5449</td>\n",
       "      <td>48315</td>\n",
       "    </tr>\n",
       "    <tr>\n",
       "      <td>6</td>\n",
       "      <td>English</td>\n",
       "      <td>Shakespeare</td>\n",
       "      <td>Romeo and Juliet</td>\n",
       "      <td>5118</td>\n",
       "      <td>40776</td>\n",
       "    </tr>\n",
       "    <tr>\n",
       "      <td>7</td>\n",
       "      <td>English</td>\n",
       "      <td>Shakespeare</td>\n",
       "      <td>The Merchant of Venice</td>\n",
       "      <td>4978</td>\n",
       "      <td>20949</td>\n",
       "    </tr>\n",
       "  </tbody>\n",
       "</table>\n",
       "</div>"
      ],
      "text/plain": [
       "  Language       Author                     Tittle Unique Length\n",
       "1  English  Shakespeare  A Midsummer Night's Dream   4345  16103\n",
       "2  English  Shakespeare                     Hamlet   6776  28551\n",
       "3  English  Shakespeare                    Macbeth   4780  16874\n",
       "4  English  Shakespeare                    Othello   5898  26590\n",
       "5  English  Shakespeare                Richard III   5449  48315\n",
       "6  English  Shakespeare           Romeo and Juliet   5118  40776\n",
       "7  English  Shakespeare     The Merchant of Venice   4978  20949"
      ]
     },
     "execution_count": 93,
     "metadata": {},
     "output_type": "execute_result"
    }
   ],
   "source": [
    "stats[stats.Language == \"English\"]"
   ]
  },
  {
   "cell_type": "code",
   "execution_count": 97,
   "metadata": {},
   "outputs": [
    {
     "data": {
      "text/html": [
       "<div>\n",
       "<style scoped>\n",
       "    .dataframe tbody tr th:only-of-type {\n",
       "        vertical-align: middle;\n",
       "    }\n",
       "\n",
       "    .dataframe tbody tr th {\n",
       "        vertical-align: top;\n",
       "    }\n",
       "\n",
       "    .dataframe thead th {\n",
       "        text-align: right;\n",
       "    }\n",
       "</style>\n",
       "<table border=\"1\" class=\"dataframe\">\n",
       "  <thead>\n",
       "    <tr style=\"text-align: right;\">\n",
       "      <th></th>\n",
       "      <th>Language</th>\n",
       "      <th>Author</th>\n",
       "      <th>Tittle</th>\n",
       "      <th>Unique</th>\n",
       "      <th>Length</th>\n",
       "    </tr>\n",
       "  </thead>\n",
       "  <tbody>\n",
       "    <tr>\n",
       "      <td>101</td>\n",
       "      <td>Portuguese</td>\n",
       "      <td>Queir¢s</td>\n",
       "      <td>Os Maias</td>\n",
       "      <td>40665</td>\n",
       "      <td>195771</td>\n",
       "    </tr>\n",
       "  </tbody>\n",
       "</table>\n",
       "</div>"
      ],
      "text/plain": [
       "       Language   Author    Tittle Unique  Length\n",
       "101  Portuguese  Queir¢s  Os Maias  40665  195771"
      ]
     },
     "execution_count": 97,
     "metadata": {},
     "output_type": "execute_result"
    }
   ],
   "source": [
    "#accessing the full record\n",
    "stats[stats.Length == max(stats.Length)]"
   ]
  },
  {
   "cell_type": "code",
   "execution_count": 102,
   "metadata": {},
   "outputs": [
    {
     "data": {
      "image/png": "[encoded data removed]",
      "text/plain": [
       "<Figure size 720x720 with 1 Axes>"
      ]
     },
     "metadata": {
      "needs_background": "light"
     },
     "output_type": "display_data"
    }
   ],
   "source": [
    "plt.figure(figsize= (10,10))\n",
    "subset = stats[stats.Language == \"English\"]\n",
    "plt.loglog(subset.Length, subset.Unique, \"o\", label = \"English\", color = \"crimson\")\n",
    "subset = stats[stats.Language == \"French\"]\n",
    "plt.loglog(subset.Length, subset.Unique, \"o\", label = \"French\", color = \"forestgreen\")\n",
    "subset = stats[stats.Language == \"German\"]\n",
    "plt.loglog(subset.Length, subset.Unique, \"o\", label = \"German\", color = \"orange\")\n",
    "subset = stats[stats.Language == \"Portuguese\"]\n",
    "plt.loglog(subset.Length, subset.Unique, \"o\", label = \"Portuguese\", color = \"blueviolet\")\n",
    "plt.legend()\n",
    "plt.xlabel(\"Book length\")\n",
    "plt.ylabel(\"Number of unique words\")\n",
    "plt.savefig(\"lang_plot.pdf\")"
   ]
  },
  {
   "cell_type": "code",
   "execution_count": null,
   "metadata": {},
   "outputs": [],
   "source": []
  },
  {
   "cell_type": "code",
   "execution_count": 105,
   "metadata": {},
   "outputs": [
    {
     "data": {
      "text/plain": [
       "(array([2., 1., 0., 2., 0., 0., 0., 1., 0., 1.]),\n",
       " array([16103.0, 19324.2, 22545.4, 25766.6, 28987.8, 32209.0, 35430.2,\n",
       "        38651.399999999994, 41872.6, 45093.8, 48315.0], dtype=object),\n",
       " <a list of 10 Patch objects>)"
      ]
     },
     "execution_count": 105,
     "metadata": {},
     "output_type": "execute_result"
    },
    {
     "data": {
      "image/png": "[encoded data removed]",
      "text/plain": [
       "<Figure size 432x288 with 1 Axes>"
      ]
     },
     "metadata": {
      "needs_background": "light"
     },
     "output_type": "display_data"
    }
   ],
   "source": [
    "plt.hist(subset.Length)"
   ]
  },
  {
   "cell_type": "code",
   "execution_count": null,
   "metadata": {},
   "outputs": [],
   "source": []
  }
 ],
 "metadata": {
  "kernelspec": {
   "display_name": "Python 3",
   "language": "python",
   "name": "python3"
  },
  "language_info": {
   "codemirror_mode": {
    "name": "ipython",
    "version": 3
   },
   "file_extension": ".py",
   "mimetype": "text/x-python",
   "name": "python",
   "nbconvert_exporter": "python",
   "pygments_lexer": "ipython3",
   "version": "3.7.4"
  }
 },
 "nbformat": 4,
 "nbformat_minor": 2
}
