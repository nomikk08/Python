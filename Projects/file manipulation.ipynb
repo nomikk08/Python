{
 "cells": [
  {
   "cell_type": "code",
   "execution_count": 8,
   "metadata": {},
   "outputs": [
    {
     "name": "stdout",
     "output_type": "stream",
     "text": [
      "2929\n",
      "3399\n",
      "3939\n"
     ]
    }
   ],
   "source": [
    "##         READING A FILE\n",
    "# open keyword gets the file untitled.txt and we are saving it as practiceFile\n",
    "# with key close the file after checking all the elements neither it wouldn't close\n",
    "# read() method reads the element\n",
    "#rstrip() method only prints the elements and skip the blank space\n",
    "\n",
    "with open ('untitled.txt') as practiceFile: \n",
    "    contents= practiceFile.read()\n",
    "    print(contents.rstrip())"
   ]
  },
  {
   "cell_type": "code",
   "execution_count": 9,
   "metadata": {},
   "outputs": [
    {
     "name": "stdout",
     "output_type": "stream",
     "text": [
      "Umair\n",
      "Noman\n",
      "Talha\n",
      "Salman\n"
     ]
    }
   ],
   "source": [
    "##         READING A FILE FROM A FOLDER\n",
    "# 'Untitled Folder/untitled2.txt' is the location of the file\n",
    "\n",
    "with open ('Untitled Folder/untitled2.txt') as practiceFile: \n",
    "    contents= practiceFile.read()\n",
    "    print(contents.rstrip())"
   ]
  },
  {
   "cell_type": "code",
   "execution_count": 10,
   "metadata": {},
   "outputs": [
    {
     "name": "stdout",
     "output_type": "stream",
     "text": [
      "Umair\n",
      "Noman\n",
      "Talha\n",
      "Salman\n"
     ]
    }
   ],
   "source": [
    "##                 SAVING THE PATH OF FILE IN A VARIABLE\n",
    "\n",
    "filePath = 'Untitled Folder/untitled2.txt'\n",
    "with open (filePath) as practiceFile: \n",
    "    contents= practiceFile.read()\n",
    "    print(contents.rstrip())"
   ]
  },
  {
   "cell_type": "code",
   "execution_count": 18,
   "metadata": {},
   "outputs": [
    {
     "name": "stdout",
     "output_type": "stream",
     "text": [
      "2929\n",
      "3399\n",
      "3939\n",
      "\n",
      "\n",
      "\n"
     ]
    }
   ],
   "source": [
    "filePath = 'untitled.txt'\n",
    "with open (filePath) as practiceFile: \n",
    "    contents= practiceFile.readlines()\n",
    "\n",
    "for line in contents:\n",
    "    print(line.rstrip())"
   ]
  },
  {
   "cell_type": "code",
   "execution_count": 22,
   "metadata": {},
   "outputs": [
    {
     "name": "stdout",
     "output_type": "stream",
     "text": [
      "292933993939\n"
     ]
    }
   ],
   "source": [
    "filePath = 'untitled.txt'\n",
    "with open (filePath) as practiceFile: \n",
    "    contents= practiceFile.readlines()\n",
    "\n",
    "oneLine=\"\" \n",
    "for line in contents:\n",
    "    oneLine +=line.rstrip() #printing all the elements in a single line\n",
    "    \n",
    "print(oneLine)"
   ]
  },
  {
   "cell_type": "code",
   "execution_count": 25,
   "metadata": {},
   "outputs": [
    {
     "name": "stdout",
     "output_type": "stream",
     "text": [
      "292933 still continue\n",
      "12\n"
     ]
    }
   ],
   "source": [
    "filePath = 'untitled.txt'\n",
    "with open (filePath) as practiceFile: \n",
    "    contents= practiceFile.readlines()\n",
    "\n",
    "oneLine=\"\" \n",
    "for line in contents:\n",
    "    oneLine +=line.rstrip() \n",
    "    \n",
    "print(oneLine[:6] + \" still continue\") # printing the line to the desired array\n",
    "print(len(oneLine))"
   ]
  },
  {
   "cell_type": "code",
   "execution_count": 28,
   "metadata": {},
   "outputs": [],
   "source": [
    "##             WRITING INTO A FILE\n",
    "# \"w\" shows that we are writing a file\n",
    "# with operator supports reads a file by default \n",
    "\n",
    "\n",
    "filePath = 'untitled.txt'\n",
    "with open (filePath , \"w\") as practiceFile:\n",
    "    practiceFile.write(\"000\\n\") ## writes 000 in the file and removes all previous data\n",
    "    practiceFile.write(\"111\")\n",
    "    "
   ]
  },
  {
   "cell_type": "code",
   "execution_count": 29,
   "metadata": {},
   "outputs": [],
   "source": [
    "##                APPENDING INTO A FILE\n",
    "# \"a\" appends the element in the file\n",
    "\n",
    "filePath = 'untitled.txt'\n",
    "with open (filePath , \"a\") as practiceFile:\n",
    "    practiceFile.write(\"\\n222\")"
   ]
  },
  {
   "cell_type": "code",
   "execution_count": 34,
   "metadata": {},
   "outputs": [
    {
     "name": "stdout",
     "output_type": "stream",
     "text": [
      "This operation can't be performed\n"
     ]
    }
   ],
   "source": [
    "##             HANDLING THE KNOWN ERROR\n",
    "\n",
    "firstNum = 8\n",
    "secondNum = 0\n",
    "\n",
    "try:\n",
    "    answer  = firstNum/secondNum\n",
    "\n",
    "except ZeroDivisionError:\n",
    "    print(\"This operation can't be performed\")\n",
    "    \n",
    "else:\n",
    "    print(answer)"
   ]
  },
  {
   "cell_type": "code",
   "execution_count": 36,
   "metadata": {},
   "outputs": [
    {
     "name": "stdout",
     "output_type": "stream",
     "text": [
      "Your file path is not correct\n"
     ]
    }
   ],
   "source": [
    "try:\n",
    "    with open('untitled2.txt') as practiceFile:\n",
    "        contents = practiceFile.read()\n",
    "        \n",
    "except FileNotFoundError:\n",
    "    print(\"Your file path is not correct\")\n",
    "\n",
    "else:\n",
    "    print(contents)"
   ]
  },
  {
   "cell_type": "code",
   "execution_count": null,
   "metadata": {},
   "outputs": [],
   "source": [
    "##            READING A CSV(EXCEL SHEET) FILE\n",
    "# CSV(comma separated value)\n",
    "# i have no any csv file so i named it as file name\n",
    "\n",
    "import csv                               # importing the module of csv\n",
    "with open (\"file name\") as practiceFile:\n",
    "    contents = csv.reader(practiceFile)  # format for accessing a csv file\n",
    "    for line in contents:                # without for loop csv file can't be accessed accuratly\n",
    "        print(line)"
   ]
  }
 ],
 "metadata": {
  "kernelspec": {
   "display_name": "Python 3",
   "language": "python",
   "name": "python3"
  },
  "language_info": {
   "codemirror_mode": {
    "name": "ipython",
    "version": 3
   },
   "file_extension": ".py",
   "mimetype": "text/x-python",
   "name": "python",
   "nbconvert_exporter": "python",
   "pygments_lexer": "ipython3",
   "version": "3.7.4"
  }
 },
 "nbformat": 4,
 "nbformat_minor": 2
}
