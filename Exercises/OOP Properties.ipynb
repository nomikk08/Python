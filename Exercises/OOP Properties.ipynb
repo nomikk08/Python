{
 "cells": [
  {
   "cell_type": "code",
   "execution_count": 4,
   "metadata": {},
   "outputs": [
    {
     "name": "stdout",
     "output_type": "stream",
     "text": [
      "13 kms/l\n",
      "No Tank\n",
      "\n",
      "DESCRIPTION\n",
      "Name: Audi\n",
      "Model: A8 \n",
      "Color: Brown\n"
     ]
    }
   ],
   "source": [
    "##                       INHERITANCE\n",
    "\n",
    "class Car():\n",
    "    def __init__(self,name,model,color):\n",
    "        self.name=name\n",
    "        self.model=model\n",
    "        self.color=color\n",
    "        \n",
    "    def average(self,kilo):\n",
    "        print(\"{} kms/l\".format(kilo))\n",
    "        \n",
    "    def tank(self):\n",
    "        print(\"yes, have a tank\")\n",
    "        \n",
    "class Hybrid_car(Car): ## making a child class of Car\n",
    "    def __init__(self,name,model,color):\n",
    "        super().__init__(name,model,color) ## syntax for defining a child class\n",
    "        \n",
    "    def tank(self):## over riding method (parent and cild class having same method), when we call over riding method \n",
    "        print(\"No Tank\") ## the method of child class will over ride the parent class.\n",
    "        \n",
    "    def get_description(self):\n",
    "        print(\"\\nDESCRIPTION\\nName: {}\\nModel: {} \\nColor: {}\".format(self.name,self.model,self.color))\n",
    "\n",
    "car1=Car(\"Audi\",\"A3\",\"Black\")\n",
    "\n",
    "car1.average(13)\n",
    "\n",
    "new_car=Hybrid_car(\"Audi\",\"A8\",\"Brown\")\n",
    "new_car.tank()\n",
    "new_car.get_description()"
   ]
  },
  {
   "cell_type": "code",
   "execution_count": 6,
   "metadata": {},
   "outputs": [
    {
     "name": "stdout",
     "output_type": "stream",
     "text": [
      "30 klometers per liter\n",
      "30 klometers per liter\n",
      "35 klometers per liter\n"
     ]
    }
   ],
   "source": [
    "##                            Encapsulation\n",
    "## It encapsulates the methods and attribures together. Is also use for security purpose\n",
    "## Attributes can not be changed outside the class \n",
    "## Attributes can be changed by making a new method in the class\n",
    "\n",
    "class New_car():\n",
    "    def __init__(self): ## we use __ for securing the variable\n",
    "        self.__maxAverage=30\n",
    "        \n",
    "    def average(self):\n",
    "        print(\"{} klometers per liter\".format(self.__maxAverage))\n",
    "        \n",
    "    def update_average(self,updated_value):   ## making a new method for updating the value of average\n",
    "        self.__maxAverage=updated_value\n",
    "\n",
    "obj = New_car()\n",
    "\n",
    "obj.average()\n",
    "\n",
    "obj.__maxAverage=60    ## will not change due to encapsulation\n",
    "obj.average()\n",
    "\n",
    "obj.update_average(35)\n",
    "obj.average()\n"
   ]
  },
  {
   "cell_type": "code",
   "execution_count": 10,
   "metadata": {},
   "outputs": [
    {
     "name": "stdout",
     "output_type": "stream",
     "text": [
      "Pakistan>\n",
      "Capital: Islamabad\n",
      "Population: 20 Crore\n",
      "\n",
      "USA>\n",
      "Capital: Washington DC\n",
      "Population: 40 Crore\n"
     ]
    }
   ],
   "source": [
    "##                       Polymorphism\n",
    "\n",
    "class Pakistan():\n",
    "    def detail(self):\n",
    "        print(\"Pakistan>\\nCapital: Islamabad\\nPopulation: 20 Crore\")\n",
    "        \n",
    "class USA():\n",
    "    def detail(self):\n",
    "        print(\"\\nUSA>\\nCapital: Washington DC\\nPopulation: 40 Crore\")\n",
    "        \n",
    "def description(country):\n",
    "    country.detail()\n",
    "    \n",
    "pak=Pakistan() ## pak and usa are the objects\n",
    "usa=USA()\n",
    "\n",
    "description(pak)\n",
    "description(usa)\n",
    "\n"
   ]
  },
  {
   "cell_type": "code",
   "execution_count": 19,
   "metadata": {},
   "outputs": [
    {
     "name": "stdout",
     "output_type": "stream",
     "text": [
      "6\n",
      "7\n"
     ]
    }
   ],
   "source": [
    "##                 OVERLOADING METHOD \n",
    "## having 2 same methods in a simgle class\n",
    "## having more parameters method will run\n",
    "\n",
    "class OverLoadingDemo():\n",
    "    def sum(self,a=None,b=None,c=None):\n",
    "        if a!=None and b!=None and c!=None:\n",
    "            print(a+b+c)\n",
    "            \n",
    "        elif a!=None and b!=None:\n",
    "            print(a+b)\n",
    "       # print(a+b)\n",
    "        \n",
    "    #def sum(self,a,b,c):\n",
    "       # print(a+b+c)\n",
    "        \n",
    "obj3 = OverLoadingDemo()\n",
    "\n",
    "obj3.sum(1,2,3)  ## obj3.sum(1,2) will give error of missing argument\n",
    "obj3.sum(3,4)"
   ]
  },
  {
   "cell_type": "code",
   "execution_count": 7,
   "metadata": {},
   "outputs": [
    {
     "name": "stdout",
     "output_type": "stream",
     "text": [
      "He gives 30000 rupees as Haq Mehar\n",
      "Valima will start at 8 o'clock\n"
     ]
    }
   ],
   "source": [
    "##                      ABSTRACTION\n",
    "## In abstraction we only define functionality and complexity is define in the child class\n",
    "\n",
    "\n",
    "from abc import ABC,abstractmethod ## abc(abstract base class) and abstractmentod are the built in module for making the abstreact class\n",
    "\n",
    "class Nikkah(ABC): ## Nikkah is the abstract class\n",
    "    @abstractmethod ## child class will compulsory use the abstract method niether the program will give error\n",
    "    def haq_mehar(self):\n",
    "        pass\n",
    "    \n",
    "class Human1(Nikkah): ## it is compulsory for human1 to def the method of haq mehar\n",
    "    def haq_mehar(self,rupees): ## if we comment or remove the method of haq mehar programm will give error\n",
    "        print(\"He gives {} rupees as Haq Mehar\".format(rupees))\n",
    "        \n",
    "    def valima(self):\n",
    "        print(\"Valima will start at 8 o'clock\")\n",
    "        \n",
    "obj6 = Human1()\n",
    "obj6.haq_mehar(30000)\n",
    "\n",
    "obj6.valima()\n",
    "\n"
   ]
  },
  {
   "cell_type": "code",
   "execution_count": null,
   "metadata": {},
   "outputs": [],
   "source": []
  }
 ],
 "metadata": {
  "kernelspec": {
   "display_name": "Python 3",
   "language": "python",
   "name": "python3"
  },
  "language_info": {
   "codemirror_mode": {
    "name": "ipython",
    "version": 3
   },
   "file_extension": ".py",
   "mimetype": "text/x-python",
   "name": "python",
   "nbconvert_exporter": "python",
   "pygments_lexer": "ipython3",
   "version": "3.7.4"
  }
 },
 "nbformat": 4,
 "nbformat_minor": 2
}
