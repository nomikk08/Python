{
 "cells": [
  {
   "cell_type": "code",
   "execution_count": 8,
   "metadata": {},
   "outputs": [
    {
     "name": "stdout",
     "output_type": "stream",
     "text": [
      "[[-0.05688718  0.57534888  0.79699612]\n",
      " [ 0.49597177  1.02343017  1.00516638]] \n",
      "\n",
      "[[-0.11377437  1.15069776  1.59399224]\n",
      " [ 0.99194354  2.04686034  2.01033276]] \n",
      "\n",
      "[[-0.56887183  5.7534888   7.96996122]\n",
      " [ 4.95971772 10.23430169 10.05166378]] \n",
      "\n",
      "(2, 3) \n",
      "\n",
      "float64 \n",
      "\n",
      "2 \n",
      "\n"
     ]
    }
   ],
   "source": [
    "##                NUMPY\n",
    "# We use numpy to perform the operation with arra and matrix\n",
    "# random.randn is the syntax of numpy for generating random number\n",
    "\n",
    "import numpy as np\n",
    "data = np.random.randn(2,3) # generates a random matrix of 2x3\n",
    "\n",
    "print(data,\"\\n\")\n",
    "\n",
    "print(data + data,\"\\n\") # adds matrix to itself\n",
    "\n",
    "print(data*10,\"\\n\")\n",
    "\n",
    "print(data.shape,\"\\n\") # defines the row and column in matrix\n",
    "\n",
    "print(data.dtype,\"\\n\") # dfeines the data type of data\n",
    "\n",
    "print(data.ndim,\"\\n\") # defines the dimension of the data(how many arrays are in it)"
   ]
  },
  {
   "cell_type": "code",
   "execution_count": 18,
   "metadata": {},
   "outputs": [
    {
     "name": "stdout",
     "output_type": "stream",
     "text": [
      "[0. 0. 0. 0. 0. 0. 0. 0. 0. 0.] \n",
      "\n",
      "[[0. 0. 0. 0. 0. 0.]\n",
      " [0. 0. 0. 0. 0. 0.]\n",
      " [0. 0. 0. 0. 0. 0.]] \n",
      "\n",
      "[[[0. 0. 0. 0. 0. 0.]\n",
      "  [0. 0. 0. 0. 0. 0.]\n",
      "  [0. 0. 0. 0. 0. 0.]]\n",
      "\n",
      " [[0. 0. 0. 0. 0. 0.]\n",
      "  [0. 0. 0. 0. 0. 0.]\n",
      "  [0. 0. 0. 0. 0. 0.]]] \n",
      "\n",
      "it is empty matrix\n",
      " [[0. 0. 0. 0. 0. 0.]\n",
      " [0. 0. 0. 0. 0. 0.]\n",
      " [0. 0. 0. 0. 0. 0.]] \n",
      "\n"
     ]
    }
   ],
   "source": [
    "print(np.zeros(10),\"\\n\") # prints a array of 10 zeroes\n",
    "\n",
    "print(np.zeros((3,6)),\"\\n\") # prints a 3x6 matrix of zeros\n",
    "\n",
    "print(np.zeros((2,3,6)),\"\\n\") # prints 2 matrix of 3x6\n",
    "\n",
    "# the elemets of empty and zero matrix are zeros but sometimes empty matrix shows garbage value at any place of matrix\n",
    "print(\"it is empty matrix\\n\",np.empty((3,6)),\"\\n\")"
   ]
  },
  {
   "cell_type": "code",
   "execution_count": 48,
   "metadata": {},
   "outputs": [
    {
     "name": "stdout",
     "output_type": "stream",
     "text": [
      "[4. 2. 6. 8.]\n",
      "Normal Array [4 2 6 8] \n",
      "\n",
      "Addition with Array [ 8  4 12 16] \n",
      "\n",
      "Multiplication with Array [ 8  4 12 16] \n",
      "\n",
      "Division with Array [2. 1. 3. 4.] \n",
      "\n",
      "Power of Array [16  4 36 64] \n",
      "\n",
      "Square root of Array [2.         1.41421356 2.44948974 2.82842712] \n",
      "\n",
      "Exponent of Array [  54.59815003    7.3890561   403.42879349 2980.95798704] \n",
      "\n",
      "Sorting an Array [2 4 6 8] \n",
      "\n",
      "Mean of Array 5.0 \n",
      "\n",
      "Sum of Array 20 \n",
      "\n",
      "cumsum of Array [ 4  6 12 20] \n",
      "\n",
      "[ True  True  True  True] \n",
      "\n",
      "[False False False False]\n"
     ]
    }
   ],
   "source": [
    "#              SOME NUMPY OPERATIONS\n",
    "\n",
    "arr = np.array([4,2,6,8] ,dtype='int64') # converting a normal array into numpy array\n",
    "print(arr.astype(np.float64)) # astype use to change the data type\n",
    "\n",
    "print(\"Normal Array\",arr,\"\\n\")\n",
    "\n",
    "print(\"Addition with Array\",arr+arr,\"\\n\")\n",
    "\n",
    "print(\"Multiplication with Array\",arr*2,\"\\n\")\n",
    "\n",
    "print(\"Division with Array\",arr/2,\"\\n\")\n",
    "\n",
    "print(\"Power of Array\",arr**2,\"\\n\")\n",
    "\n",
    "print(\"Square root of Array\",np.sqrt(arr),\"\\n\")\n",
    "\n",
    "print(\"Exponent of Array\",np.exp(arr),\"\\n\")\n",
    "\n",
    "print(\"Sorting an Array\",np.sort(arr),\"\\n\")\n",
    "\n",
    "# some statistic operation\n",
    "print(\"Mean of Array\",np.mean(arr),\"\\n\")\n",
    "\n",
    "print(\"Sum of Array\",np.sum(arr),\"\\n\")\n",
    "\n",
    "print(\"cumsum of Array\",np.cumsum(arr),\"\\n\") # addition of each trailing element\n",
    "\n",
    "# Boolean opeation\n",
    "arr2=np.array([0,1,3,5])\n",
    "print(arr>arr2,\"\\n\") #compares each element of both arrays\n",
    "print(arr<arr2)"
   ]
  },
  {
   "cell_type": "code",
   "execution_count": 50,
   "metadata": {},
   "outputs": [
    {
     "name": "stdout",
     "output_type": "stream",
     "text": [
      "[0 1 2 3 4 5 6 7 8 9]\n",
      "[4 5 6 7]\n",
      "[0 1 2 3 0 0 0 0 8 9]\n"
     ]
    }
   ],
   "source": [
    "##                  RANGE IN NUMPY\n",
    "# .arange is the sytax of range in numpy\n",
    "\n",
    "arr = np.arange(10)\n",
    "print(arr)\n",
    "\n",
    "arr2 = arr[4:8]\n",
    "print(arr2)\n",
    "\n",
    "arr[4:8]=0\n",
    "print(arr)"
   ]
  },
  {
   "cell_type": "code",
   "execution_count": 40,
   "metadata": {},
   "outputs": [
    {
     "name": "stdout",
     "output_type": "stream",
     "text": [
      "['Umair' 'Noman' 'Tlaha' 'Salman' 'Noman'] \n",
      "\n",
      "[[-2.2287274   1.87281542 -0.03932771]\n",
      " [-0.50709218  1.14963584  0.56449658]\n",
      " [ 0.12998018  0.1812051  -0.52749813]\n",
      " [ 0.85255497  1.16886307  0.48649305]\n",
      " [-0.44283265  0.26313543 -0.36727667]] \n",
      "\n",
      "[False  True False False  True] \n",
      "\n",
      "[[-0.50709218  1.14963584  0.56449658]\n",
      " [-0.44283265  0.26313543 -0.36727667]] \n",
      "\n",
      "[[-2.2287274   1.87281542 -0.03932771]\n",
      " [ 0.12998018  0.1812051  -0.52749813]\n",
      " [ 0.85255497  1.16886307  0.48649305]] \n",
      "\n",
      "['Noman' 'Salman' 'Tlaha' 'Umair'] \n",
      "\n"
     ]
    }
   ],
   "source": [
    "namesArr = np.array([\"Umair\",\"Noman\",\"Tlaha\",\"Salman\",\"Noman\"])\n",
    "numArr  = np.random.randn(5,3)\n",
    "\n",
    "print(namesArr,\"\\n\")\n",
    "print(numArr,\"\\n\")\n",
    "print(namesArr==\"Noman\",\"\\n\")\n",
    "print(numArr[namesArr==\"Noman\"],\"\\n\") # print the rows where noman is true(only prints 2nd and last rows)\n",
    "print(numArr[~(namesArr==\"Noman\")],\"\\n\") # prints all the false rows\n",
    "print(np.unique(namesArr),\"\\n\") # neglects the multiple elements and only type each element once, also sorts the element"
   ]
  },
  {
   "cell_type": "code",
   "execution_count": 47,
   "metadata": {},
   "outputs": [
    {
     "name": "stdout",
     "output_type": "stream",
     "text": [
      "[0.20028582 0.24999497 1.02853197 1.49405966 1.0653947 ] \n",
      "\n",
      "[0.22533911 1.22253329 1.50097344 0.50766755 1.02336786] \n",
      "\n",
      "Maximum Array [0.22533911 1.22253329 1.50097344 1.49405966 1.0653947 ] \n",
      "\n",
      "Minimum Array [0.20028582 0.24999497 1.02853197 0.50766755 1.02336786]\n"
     ]
    }
   ],
   "source": [
    "arr = np.random.randn(5)\n",
    "print(arr,\"\\n\")\n",
    "\n",
    "arr2 = np.random.randn(5)\n",
    "print(arr2,\"\\n\")\n",
    "\n",
    "print(\"Maximum Array\", np.maximum(arr,arr2),\"\\n\")  # compares each elemets of both arrays and make a single array of maximum values of both arrays\n",
    "print(\"Minimum Array\" ,np.minimum(arr,arr2))  # compares each elemets of both arrays and make a single array of minimum values of both arrays\n"
   ]
  },
  {
   "cell_type": "code",
   "execution_count": null,
   "metadata": {},
   "outputs": [],
   "source": []
  }
 ],
 "metadata": {
  "kernelspec": {
   "display_name": "Python 3",
   "language": "python",
   "name": "python3"
  },
  "language_info": {
   "codemirror_mode": {
    "name": "ipython",
    "version": 3
   },
   "file_extension": ".py",
   "mimetype": "text/x-python",
   "name": "python",
   "nbconvert_exporter": "python",
   "pygments_lexer": "ipython3",
   "version": "3.7.4"
  }
 },
 "nbformat": 4,
 "nbformat_minor": 2
}
