{
 "cells": [
  {
   "cell_type": "code",
   "execution_count": null,
   "metadata": {},
   "outputs": [],
   "source": [
    "# Waffle Plots\n",
    "\n",
    "These plots are used to represent the data in grid form with a specific percentage.\n",
    "It is an extension of matplotlib"
   ]
  },
  {
   "cell_type": "code",
   "execution_count": 1,
   "metadata": {},
   "outputs": [],
   "source": [
    "import numpy as np\n",
    "import pandas as pd\n",
    "import matplotlib.pyplot as plt\n",
    "import seaborn as sns"
   ]
  },
  {
   "cell_type": "code",
   "execution_count": null,
   "metadata": {},
   "outputs": [],
   "source": [
    "from pywaffle import Waffle\n",
    "\n",
    "fig = plt.figure( \n",
    "    FigureClass = Waffle, \n",
    "    rows = 5, \n",
    "    columns = 10, \n",
    "    values = [48,46,6], \n",
    "    figsize = (5,3)\n",
    ")"
   ]
  },
  {
   "cell_type": "code",
   "execution_count": null,
   "metadata": {},
   "outputs": [],
   "source": [
    "data = {'Democratic':48, 'Republican':46, 'Congress':6}\n",
    "fig = plt.figure( \n",
    "    FigureClass = Waffle, \n",
    "    rows = 5, \n",
    "    values = data, \n",
    "    legend = {'loc': 'upper left', 'bbox_to_anchor': (1.1, 1)}\n",
    ")"
   ]
  },
  {
   "cell_type": "code",
   "execution_count": null,
   "metadata": {},
   "outputs": [],
   "source": [
    "data = {'Democratic':48, 'Republican':46, 'Libertarian':6}\n",
    "fig = plt.figure( \n",
    "    FigureClass = Waffle, \n",
    "    rows = 5, \n",
    "    values = data,\n",
    "    colors = ('#983D3D', '#232066', '#DCB732'),\n",
    "    title = {'label': 'US Presidetial Elections in 2016', 'loc': 'left'},\n",
    "    labels = ['{0} ({1}%)'.format(k,v) for k,v in data.items()],\n",
    "    legend = {'loc': 'lower left', 'bbox_to_anchor': (0, -0.4), 'ncol': len(data), 'framealpha':0}\n",
    ")\n",
    "fig.gca().set_facecolor('#EEEEEE')\n",
    "fig.set_facecolor('#EEEEEE')"
   ]
  },
  {
   "cell_type": "code",
   "execution_count": null,
   "metadata": {},
   "outputs": [],
   "source": [
    "data = {'Democratic':48, 'Republican':46, 'Libertarian':6}\n",
    "fig = plt.figure( \n",
    "    FigureClass = Waffle, \n",
    "    rows = 5, \n",
    "    values = data,\n",
    "    colors = ('#983D3D', '#232066', '#DCB732'),\n",
    "    title = {'label': 'US Presidetial Elections in 2016', 'loc': 'left'},\n",
    "    labels = ['{0} ({1}%)'.format(k,v) for k,v in data.items()],\n",
    "    legend = {'loc': 'lower left', 'bbox_to_anchor': (0, -0.4), 'ncol': len(data), 'framealpha':0},\n",
    "    icons = 'child',\n",
    "    font_size = 12,\n",
    "    icon_legend = True\n",
    ")"
   ]
  },
  {
   "cell_type": "code",
   "execution_count": null,
   "metadata": {},
   "outputs": [],
   "source": []
  },
  {
   "cell_type": "code",
   "execution_count": null,
   "metadata": {},
   "outputs": [],
   "source": []
  },
  {
   "cell_type": "code",
   "execution_count": null,
   "metadata": {},
   "outputs": [],
   "source": []
  },
  {
   "cell_type": "code",
   "execution_count": null,
   "metadata": {},
   "outputs": [],
   "source": []
  },
  {
   "cell_type": "code",
   "execution_count": null,
   "metadata": {},
   "outputs": [],
   "source": []
  },
  {
   "cell_type": "code",
   "execution_count": null,
   "metadata": {},
   "outputs": [],
   "source": []
  },
  {
   "cell_type": "code",
   "execution_count": null,
   "metadata": {},
   "outputs": [],
   "source": []
  },
  {
   "cell_type": "code",
   "execution_count": null,
   "metadata": {},
   "outputs": [],
   "source": []
  },
  {
   "cell_type": "code",
   "execution_count": null,
   "metadata": {},
   "outputs": [],
   "source": []
  },
  {
   "cell_type": "code",
   "execution_count": null,
   "metadata": {},
   "outputs": [],
   "source": []
  },
  {
   "cell_type": "code",
   "execution_count": null,
   "metadata": {},
   "outputs": [],
   "source": []
  }
 ],
 "metadata": {
  "kernelspec": {
   "display_name": "Python 3",
   "language": "python",
   "name": "python3"
  },
  "language_info": {
   "codemirror_mode": {
    "name": "ipython",
    "version": 3
   },
   "file_extension": ".py",
   "mimetype": "text/x-python",
   "name": "python",
   "nbconvert_exporter": "python",
   "pygments_lexer": "ipython3",
   "version": "3.7.4"
  }
 },
 "nbformat": 4,
 "nbformat_minor": 2
}
