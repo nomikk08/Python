{
 "cells": [
  {
   "cell_type": "code",
   "execution_count": 17,
   "metadata": {},
   "outputs": [
    {
     "name": "stdout",
     "output_type": "stream",
     "text": [
      "<__main__.Registration object at 0x00000248FEEC07C8>\n",
      "<__main__.Registration object at 0x00000248FF469F88>\n",
      "\n",
      "\n",
      "Noman Aijaz\n",
      "38\n",
      "twenty three\n",
      "Dawood University      default university\n",
      "KU                     upadted university\n",
      "NED University         upadated by method\n",
      "\n",
      "\n",
      "Muddasir\n",
      "26\n",
      "twenty two\n",
      "Dawood University\n"
     ]
    }
   ],
   "source": [
    "##class\n",
    "class Registration():\n",
    "    ## instantiation method\n",
    "    def __init__(self,name,rollno,age):  ##self is the prefix\n",
    "    ##attributes and attributes name\n",
    "        self.name=name\n",
    "        self.rollno=rollno\n",
    "        self.age=age\n",
    "        self.uni=\"Dawood University\" ## default attribute\n",
    "        \n",
    "        ## making a method to upadte the default attribute\n",
    "    def update_uni(self,uni_name):\n",
    "        uni=uni_name\n",
    "\n",
    "        \n",
    "        ## instances    \n",
    "stu1=Registration(\"Noman Aijaz\",38,\"twenty three\")\n",
    "stu2=Registration(\"Muddasir\",26,\"twenty two\")\n",
    "\n",
    "##defines the address memory location of the data of stu1 and stu2\n",
    "print(stu1)\n",
    "print(stu2)\n",
    "print(\"\\n\")\n",
    "\n",
    "##simply prints the name rollno age and uni of students\n",
    "print(stu1.name)\n",
    "print(stu1.rollno)\n",
    "print(stu1.age)\n",
    "\n",
    "## 3 ways to call default attributes\n",
    "print(stu1.uni,\"     default university\") # call directly\n",
    "\n",
    "# upadting the default attribute\n",
    "stu1.uni=\"KU\"\n",
    "print(stu1.uni,\"                    upadted university\")\n",
    "\n",
    "# updating by method\n",
    "stu1.uni_name=\"NED University\"\n",
    "print(stu1.uni_name,\"        upadated by method\")\n",
    "\n",
    "print(\"\\n\")\n",
    "\n",
    "print(stu2.name)\n",
    "print(stu2.rollno)\n",
    "print(stu2.age)\n",
    "print(stu2.uni)"
   ]
  },
  {
   "cell_type": "code",
   "execution_count": null,
   "metadata": {},
   "outputs": [],
   "source": []
  }
 ],
 "metadata": {
  "kernelspec": {
   "display_name": "Python 3",
   "language": "python",
   "name": "python3"
  },
  "language_info": {
   "codemirror_mode": {
    "name": "ipython",
    "version": 3
   },
   "file_extension": ".py",
   "mimetype": "text/x-python",
   "name": "python",
   "nbconvert_exporter": "python",
   "pygments_lexer": "ipython3",
   "version": "3.7.4"
  }
 },
 "nbformat": 4,
 "nbformat_minor": 2
}
