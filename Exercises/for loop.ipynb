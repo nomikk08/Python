{
 "cells": [
  {
   "cell_type": "code",
   "execution_count": 1,
   "metadata": {},
   "outputs": [
    {
     "data": {
      "text/plain": [
       "('ali', 'karachi', 'school')"
      ]
     },
     "execution_count": 1,
     "metadata": {},
     "output_type": "execute_result"
    }
   ],
   "source": [
    "#                            TUPLE\n",
    "# It is like a list but elements can't be changed in the tuple\n",
    "a = ('ali','karachi','school')\n",
    "a"
   ]
  },
  {
   "cell_type": "code",
   "execution_count": 2,
   "metadata": {},
   "outputs": [
    {
     "name": "stdout",
     "output_type": "stream",
     "text": [
      "isl\n",
      "khi\n",
      "lhr\n",
      "qta\n",
      "psh\n"
     ]
    }
   ],
   "source": [
    "#                      FOR LOOP\n",
    "cleanest_cities = [\"isl\",\"khi\",\"lhr\",\"qta\",\"psh\"]\n",
    "for clean_city in cleanest_cities: # clean_city is a variable which runs in the all elements of the list\n",
    "    print (clean_city)"
   ]
  },
  {
   "cell_type": "code",
   "execution_count": null,
   "metadata": {},
   "outputs": [],
   "source": [
    "cleanest_cities = [\"islamabad\",\"karachi\",\"lahore\",\"quetta\",\"peshawar\"]\n",
    "city = input (\"Enter the city name \")\n",
    "for clean_city in cleanest_cities:\n",
    "    {if city == clean_city:\n",
    "        print (city , \" is from the cleanest cities of Pakistan\")\n",
    "    else:\n",
    "        print (city , \" is not cleaned\")}\n",
    "        break"
   ]
  },
  {
   "cell_type": "code",
   "execution_count": null,
   "metadata": {},
   "outputs": [],
   "source": [
    "cleanest_cities = [\"islamabad\",\"karachi\",\"lahore\",\"quetta\",\"peshawar\"]\n",
    "city = input (\"Enter the city name \")\n",
    "for clean_city in cleanest_cities:\n",
    "    {if city == clean_city:\n",
    "        print (city , \" is from the cleanest cities of Pakistan\")\n",
    "    else:\n",
    "        print (city , \" is not cleaned\")}\n",
    "        break"
   ]
  },
  {
   "cell_type": "code",
   "execution_count": null,
   "metadata": {},
   "outputs": [],
   "source": []
  }
 ],
 "metadata": {
  "kernelspec": {
   "display_name": "Python 3",
   "language": "python",
   "name": "python3"
  },
  "language_info": {
   "codemirror_mode": {
    "name": "ipython",
    "version": 3
   },
   "file_extension": ".py",
   "mimetype": "text/x-python",
   "name": "python",
   "nbconvert_exporter": "python",
   "pygments_lexer": "ipython3",
   "version": "3.7.4"
  }
 },
 "nbformat": 4,
 "nbformat_minor": 2
}
