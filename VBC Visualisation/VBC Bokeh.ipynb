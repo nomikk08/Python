{
 "cells": [
  {
   "cell_type": "markdown",
   "metadata": {},
   "source": [
    "# Bokeh\n",
    "\n",
    "It is use for interactive visualization and includes many interactions as compare to other modules.\n"
   ]
  },
  {
   "cell_type": "code",
   "execution_count": null,
   "metadata": {},
   "outputs": [],
   "source": [
    "import bokeh.plotting\n",
    "import numpy as np\n",
    "\n",
    "x = np.random.randint(low = 1, high = 10, size = 5)\n",
    "y = np.random.randint(low = 1, high = 10, size = 5)\n",
    "\n",
    "f = bokeh.plotting.figure(title = 'Simple Line Example')\n",
    "f.line(x, y, legend = 'Randon Numbers', line_width = 2)\n",
    "\n",
    "bokeh.plotting.show(f)\n",
    "\n",
    "# Output will be shown in other tab"
   ]
  },
  {
   "cell_type": "code",
   "execution_count": null,
   "metadata": {},
   "outputs": [],
   "source": [
    "import bokeh.layouts\n",
    "import bokeh.plotting\n",
    "import  numpy as np\n",
    "\n",
    "x = np.random.randint(low = 1, high = 10, size = 5)\n",
    "y = np.random.randint(low = 1, high = 10, size = 5)\n",
    "z = np.random.randint(low = 1, high = 10, size = 5)\n",
    "\n",
    "f1 = bokeh.plotting.figure(width = 250, height = 250, title = None)\n",
    "f1.circle(x, y, size = 10, color = 'navy', alpha = 0.5)\n",
    "\n",
    "# By adding x and y range both plots are interacting simaltaneaously\n",
    "f2 = bokeh.plotting.figure(width = 250, height = 250, x_range = f1.x_range, y_range = f1.y_range, title = None)\n",
    "f2.square(x, z, size = 10, color = 'firebrick', alpha = 0.5)\n",
    "\n",
    "# toolbar is not defined but all the functions would perform by default\n",
    "p = bokeh.layouts.gridplot([[f1, f2]], toolbar_location = None) \n",
    "\n",
    "bokeh.plotting.show(p)"
   ]
  },
  {
   "cell_type": "code",
   "execution_count": null,
   "metadata": {},
   "outputs": [],
   "source": [
    "x = np.random.randint(low = 1, high = 10, size = 5)\n",
    "y = np.random.randint(low = 1, high = 10, size = 5)\n",
    "z = np.random.randint(low = 1, high = 10, size = 5)\n",
    "\n",
    "f1 = bokeh.plotting.figure(width = 250, height = 250, title = None)\n",
    "f1.circle(x, y, size = 10, color = 'navy', alpha = 0.5)\n",
    "\n",
    "# By removing x and y range both plots are interacting differently\n",
    "f2 = bokeh.plotting.figure(width = 250, height = 250, title = None)\n",
    "f2.square(x, z, size = 10, color = 'firebrick', alpha = 0.5)\n",
    "\n",
    "# toolbar is not defined but all the functions would perform by default\n",
    "p = bokeh.layouts.gridplot([[f1, f2]], toolbar_location = None) \n",
    "\n",
    "bokeh.plotting.show(p)"
   ]
  },
  {
   "cell_type": "code",
   "execution_count": null,
   "metadata": {},
   "outputs": [],
   "source": [
    "x = np.random.randint(low = 1, high = 10, size = 10)\n",
    "y = np.random.randint(low = 1, high = 10, size = 10)\n",
    "z = np.random.randint(low = 1, high = 10, size = 10)\n",
    "\n",
    "tools = 'pan, wheel_zoom, box_zoom, reset, save, box_select, lasso_select'\n",
    "\n",
    "f1 = bokeh.plotting.figure(tools = tools, width = 250, height = 250, title = None)\n",
    "f1.circle(x, y, size = 10, color = 'navy', alpha = 0.5)\n",
    "\n",
    "# By removing x and y range both plots are interacting differently\n",
    "f2 = bokeh.plotting.figure(tools = tools, width = 250, height = 250,\n",
    "                           x_range = f1.x_range, y_range = f1.y_range, title = None)\n",
    "f2.square(x, z, size = 10, color = 'firebrick', alpha = 0.5)\n",
    "\n",
    "# toolbar is not defined but all the functions would perform by default\n",
    "p = bokeh.layouts.gridplot([[f1, f2]]) \n",
    "\n",
    "bokeh.plotting.show(p)"
   ]
  },
  {
   "cell_type": "code",
   "execution_count": null,
   "metadata": {},
   "outputs": [],
   "source": [
    "import bokeh.io\n",
    "import bokeh.transform\n",
    "import bokeh.util.hex\n",
    "\n",
    "n = 5000\n",
    "x = np.random.standard_normal(n)\n",
    "y = np.random.standard_normal(n)\n",
    "\n",
    "bins = bokeh.util.hex.hexbin(x, y, 0.1)\n",
    "\n",
    "p = bokeh.plotting.figure(background_fill_color = '#440154')\n",
    "p.grid.visible = False\n",
    "\n",
    "p.hex_tile(q = 'q', r = 'r', size = 0.1, line_color = None, source = bins,\n",
    "            fill_color = bokeh.transform.linear_cmap('counts', 'Viridis256', 0, max(bins.counts)))\n",
    "\n",
    "bokeh.io.show(p)"
   ]
  },
  {
   "cell_type": "code",
   "execution_count": null,
   "metadata": {},
   "outputs": [],
   "source": [
    "n = 5000\n",
    "x = np.random.standard_normal(n)\n",
    "y = np.random.standard_normal(n)\n",
    "\n",
    "bins = bokeh.util.hex.hexbin(x, y, 0.1)\n",
    "\n",
    "p = bokeh.plotting.figure(match_aspect = True, background_fill_color = '#440154')\n",
    "p.grid.visible = False\n",
    "\n",
    "p.hex_tile(q = 'q', r = 'r', size = 0.1, line_color = None, source = bins,\n",
    "            fill_color = bokeh.transform.linear_cmap('counts', 'Viridis256', 0, max(bins.counts)))\n",
    "\n",
    "bokeh.io.show(p)"
   ]
  },
  {
   "cell_type": "code",
   "execution_count": null,
   "metadata": {},
   "outputs": [],
   "source": [
    " import bokeh.sampledata\n",
    "bokeh.sampledata.download()"
   ]
  },
  {
   "cell_type": "code",
   "execution_count": null,
   "metadata": {},
   "outputs": [],
   "source": [
    "from bokeh.io import show\n",
    "from bokeh.layouts import column\n",
    "from bokeh.models import ColumnDataSource, RangeTool\n",
    "from bokeh.plotting import figure\n",
    "from bokeh.sampledata.stocks import AAPL\n",
    "\n",
    "\n",
    "dates = np.array(AAPL['date'], dtype=np.datetime64)\n",
    "source = ColumnDataSource(data=dict(date=dates, close=AAPL['adj_close']))\n",
    "\n",
    "p = figure(plot_height=300, plot_width=800, tools=\"xpan\", toolbar_location=None,\n",
    "           x_axis_type=\"datetime\", x_axis_location=\"above\",\n",
    "           background_fill_color=\"#efefef\", x_range=(dates[1500], dates[2500]))\n",
    "\n",
    "p.line('date', 'close', source=source)\n",
    "p.yaxis.axis_label = 'Price'\n",
    "\n",
    "select = figure(title=\"Drag the middle and edges of the selection box to change the range above\",\n",
    "                plot_height=130, plot_width=800, y_range=p.y_range,\n",
    "                x_axis_type=\"datetime\", y_axis_type=None,\n",
    "                tools=\"\", toolbar_location=None, background_fill_color=\"#efefef\")\n",
    "\n",
    "range_tool = RangeTool(x_range=p.x_range)\n",
    "range_tool.overlay.fill_color = \"navy\"\n",
    "range_tool.overlay.fill_alpha = 0.2\n",
    "\n",
    "select.line('date', 'close', source=source)\n",
    "select.ygrid.grid_line_color = None\n",
    "select.add_tools(range_tool)\n",
    "select.toolbar.active_multi = range_tool\n",
    "\n",
    "show(column(p, select))"
   ]
  },
  {
   "cell_type": "code",
   "execution_count": null,
   "metadata": {},
   "outputs": [],
   "source": []
  },
  {
   "cell_type": "code",
   "execution_count": null,
   "metadata": {},
   "outputs": [],
   "source": []
  },
  {
   "cell_type": "code",
   "execution_count": null,
   "metadata": {},
   "outputs": [],
   "source": []
  },
  {
   "cell_type": "code",
   "execution_count": null,
   "metadata": {},
   "outputs": [],
   "source": []
  }
 ],
 "metadata": {
  "kernelspec": {
   "display_name": "Python 3",
   "language": "python",
   "name": "python3"
  },
  "language_info": {
   "codemirror_mode": {
    "name": "ipython",
    "version": 3
   },
   "file_extension": ".py",
   "mimetype": "text/x-python",
   "name": "python",
   "nbconvert_exporter": "python",
   "pygments_lexer": "ipython3",
   "version": "3.7.4"
  }
 },
 "nbformat": 4,
 "nbformat_minor": 2
}
