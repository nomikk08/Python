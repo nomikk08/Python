{
 "cells": [
  {
   "cell_type": "code",
   "execution_count": 9,
   "metadata": {},
   "outputs": [
    {
     "ename": "IndentationError",
     "evalue": "unindent does not match any outer indentation level (<tokenize>, line 6)",
     "output_type": "error",
     "traceback": [
      "\u001b[1;36m  File \u001b[1;32m\"<tokenize>\"\u001b[1;36m, line \u001b[1;32m6\u001b[0m\n\u001b[1;33m    else:\u001b[0m\n\u001b[1;37m    ^\u001b[0m\n\u001b[1;31mIndentationError\u001b[0m\u001b[1;31m:\u001b[0m unindent does not match any outer indentation level\n"
     ]
    }
   ],
   "source": [
    "cleanest_cities = [\"islamabad\",\"karachi\",\"lahore\",\"quetta\",\"peshawar\"]\n",
    "city = input (\"Enter the city name \")\n",
    "for clean_city in cleanest_cities:\n",
    "     if city == clean_city:\n",
    "        print (city , \" is from the cleanest cities of Pakistan\")\n",
    "    else:\n",
    "        print (city , \" is not cleaned\")\n",
    "    \n",
    "        break"
   ]
  },
  {
   "cell_type": "code",
   "execution_count": 10,
   "metadata": {},
   "outputs": [
    {
     "ename": "SyntaxError",
     "evalue": "invalid syntax (<ipython-input-10-2b11b65c2aaa>, line 4)",
     "output_type": "error",
     "traceback": [
      "\u001b[1;36m  File \u001b[1;32m\"<ipython-input-10-2b11b65c2aaa>\"\u001b[1;36m, line \u001b[1;32m4\u001b[0m\n\u001b[1;33m    {if city == clean_city:\u001b[0m\n\u001b[1;37m      ^\u001b[0m\n\u001b[1;31mSyntaxError\u001b[0m\u001b[1;31m:\u001b[0m invalid syntax\n"
     ]
    }
   ],
   "source": [
    "cleanest_cities = [\"islamabad\",\"karachi\",\"lahore\",\"quetta\",\"peshawar\"]\n",
    "city = input (\"Enter the city name \")\n",
    "for clean_city in cleanest_cities:\n",
    "    {if city == clean_city:\n",
    "        print (city , \" is from the cleanest cities of Pakistan\")\n",
    "    else:\n",
    "        print (city , \" is not cleaned\")}\n",
    "        break"
   ]
  },
  {
   "cell_type": "code",
   "execution_count": 12,
   "metadata": {
    "scrolled": true
   },
   "outputs": [
    {
     "name": "stdout",
     "output_type": "stream",
     "text": [
      "Enter the city name peshawar\n",
      "peshawar  is not cleaned\n",
      "peshawar  is not cleaned\n",
      "peshawar  is not cleaned\n",
      "peshawar  is not cleaned\n",
      "peshawar  is from the cleanest cities of Pakistan\n"
     ]
    }
   ],
   "source": [
    "#           FOR LOOP WITH IF ELSE\n",
    "cleanest_cities = [\"islamabad\",\"karachi\",\"lahore\",\"quetta\",\"peshawar\"]\n",
    "city = input (\"Enter the city name \")\n",
    "for clean_city in cleanest_cities:\n",
    "    if city == clean_city:\n",
    "        print (city , \" is from the cleanest cities of Pakistan\")\n",
    "    else:\n",
    "        print (city , \" is not cleaned\")"
   ]
  },
  {
   "cell_type": "code",
   "execution_count": 17,
   "metadata": {},
   "outputs": [
    {
     "name": "stdout",
     "output_type": "stream",
     "text": [
      "['Umair Aijaz', 'Noman Aijaz', 'Talha Aijaz', 'Salman Aijaz']\n"
     ]
    }
   ],
   "source": [
    "#                NESTED FOR LOOP\n",
    "first_name = [\"Umair\",\"Noman\", \"Talha\", \"Salman\"]\n",
    "last_name = [\"Aijaz\"]\n",
    "full_name = []\n",
    "for a_first_name in first_name:\n",
    "    for a_last_name in last_name:\n",
    "        full_name.append (a_first_name + \" \" + a_last_name)\n",
    "print (full_name)"
   ]
  },
  {
   "cell_type": "code",
   "execution_count": 3,
   "metadata": {},
   "outputs": [
    {
     "name": "stdout",
     "output_type": "stream",
     "text": [
      "noman\n",
      "NOMAN\n",
      "Noman\n"
     ]
    }
   ],
   "source": [
    "a='noMaN'\n",
    "print (a.lower()) # lowers the case\n",
    "b = 'NoMaN'\n",
    "print (b.upper()) # uppers the case\n",
    "c = 'noman'\n",
    "print (c.title()) # capitals the first letter"
   ]
  },
  {
   "cell_type": "code",
   "execution_count": 10,
   "metadata": {},
   "outputs": [
    {
     "name": "stdout",
     "output_type": "stream",
     "text": [
      "House# 72 Madina Colony TDY\n"
     ]
    }
   ],
   "source": [
    "#                  DICTIONARIES\n",
    "data = {\"first name\":\"Noman\", \"last name\": \"Aijaz\", \"address\": \"House# 72 Madina Colony TDY\"} # numeri keys does not come in inverted commas while string comes in\n",
    "print (data[\"address\"])"
   ]
  },
  {
   "cell_type": "code",
   "execution_count": 17,
   "metadata": {},
   "outputs": [
    {
     "name": "stdout",
     "output_type": "stream",
     "text": [
      "{'first name': 'Noman', 'address': 'Karachi', 'university': 'DUET'}\n"
     ]
    }
   ],
   "source": [
    "data = {\"first name\":\"Noman\", \"last name\": \"Aijaz\", \"address\": \"House# 72 Madina Colony TDY\"}\n",
    "data[\"address\"] = \"Karachi\" # changes the value of the key (address)\n",
    "data[\"university\"] = \"DUET\" # adds the item in the dictionary\n",
    "del data[\"last name\"] # deletes the item in a dictionary\n",
    "print (data)"
   ]
  },
  {
   "cell_type": "code",
   "execution_count": 31,
   "metadata": {},
   "outputs": [
    {
     "name": "stdout",
     "output_type": "stream",
     "text": [
      "first name key\n",
      "last name key\n",
      "address key\n",
      "Noman value\n",
      "Aijaz value\n",
      "House# 72 Madina Colony TDY value\n",
      "    DATA IN SEQUENCE    \n",
      "first name Noman\n",
      "last name Aijaz\n",
      "address House# 72 Madina Colony TDY\n"
     ]
    }
   ],
   "source": [
    "data = {\"first name\":\"Noman\", \"last name\": \"Aijaz\", \"address\": \"House# 72 Madina Colony TDY\"}\n",
    "for each_value in data.keys() : # add a function for printing key {.keys() is known ac method}\n",
    "    print (each_value,'key')\n",
    "for each_value in data.values() : # add a function for printing value\n",
    "        print (each_value,'value')\n",
    "print (\"    DATA IN SEQUENCE    \")\n",
    "for each_key, each_value in data.items(): # prints each value with its key\n",
    "    print (each_key, each_value)\n",
    "    "
   ]
  },
  {
   "cell_type": "code",
   "execution_count": null,
   "metadata": {},
   "outputs": [],
   "source": []
  }
 ],
 "metadata": {
  "kernelspec": {
   "display_name": "Python 3",
   "language": "python",
   "name": "python3"
  },
  "language_info": {
   "codemirror_mode": {
    "name": "ipython",
    "version": 3
   },
   "file_extension": ".py",
   "mimetype": "text/x-python",
   "name": "python",
   "nbconvert_exporter": "python",
   "pygments_lexer": "ipython3",
   "version": "3.7.4"
  }
 },
 "nbformat": 4,
 "nbformat_minor": 2
}
