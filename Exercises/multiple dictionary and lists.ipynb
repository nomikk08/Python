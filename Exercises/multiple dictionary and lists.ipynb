{
 "cells": [
  {
   "cell_type": "code",
   "execution_count": 15,
   "metadata": {},
   "outputs": [
    {
     "name": "stdout",
     "output_type": "stream",
     "text": [
      "{'std id': 1, 'first_name': 'Noman', 'last_name': 'Aiajz', 'dept': 'Computer Systems', 'subject': ['maths', 'english', 'physics', 'islamiat', 'urdu']}\n"
     ]
    }
   ],
   "source": [
    "#                   list of dictionaries\n",
    "students = [\n",
    "    {\n",
    "        \"std id\": 1,\n",
    "        \"first_name\" : \"Noman\",\n",
    "        \"last_name\" : \"Aiajz\",\n",
    "        \"dept\" : \"Computer Systems\",\n",
    "    \"subject\": [\"maths\",\"english\",\"physics\",\"islamiat\",\"urdu\"]\n",
    "    },\n",
    "    {\n",
    "        \"std id\": 2,\n",
    "        \"first_name\" : \"Muddasir\",\n",
    "        \"last_name\" : \"khuwaja\",\n",
    "        \"dept\" : \"Computer Systems\",\n",
    "    \"subject\": [\"maths\",\"english\",\"physics\",\"islamiat\",\"urdu\"]\n",
    "    },\n",
    "    {\n",
    "        \"std id\": 3,\n",
    "        \"first_name\" : \"Asim\",\n",
    "        \"last_name\" : \"Ahmed\",\n",
    "        \"dept\" : \"Computer Systems\",\n",
    "    \"subject\": [\"maths\",\"english\",\"physics\",\"islamiat\",\"urdu\"]\n",
    "    }\n",
    "\n",
    "]\n",
    "print(students[0]) # prints the 1st element of the list (which is a dictionary)"
   ]
  },
  {
   "cell_type": "code",
   "execution_count": 16,
   "metadata": {},
   "outputs": [
    {
     "name": "stdout",
     "output_type": "stream",
     "text": [
      "Muddasir\n"
     ]
    }
   ],
   "source": [
    "print (students[1][\"first_name\"]) # prints value of given key of 2nd element"
   ]
  },
  {
   "cell_type": "code",
   "execution_count": 17,
   "metadata": {},
   "outputs": [
    {
     "name": "stdout",
     "output_type": "stream",
     "text": [
      "[{'std id': 1, 'first_name': 'Noman', 'last_name': 'Aiajz', 'dept': 'Computer Systems', 'subject': ['maths', 'english', 'physics', 'islamiat', 'urdu']}, {'std id': 2, 'first_name': 'Muddasir', 'last_name': 'khuwaja', 'dept': 'Computer Systems', 'subject': ['maths', 'english', 'physics', 'islamiat', 'urdu']}, {'std id': 3, 'first_name': 'Asim', 'last_name': 'Ahmed', 'dept': 'Computer Systems', 'subject': ['maths', 'english', 'physics', 'islamiat', 'urdu']}, {'std id': 4, 'first_name': 'sheryar', 'last_name': 'Ahmed', 'dept': 'Computer Systems', 'subject': ['maths', 'english', 'physics', 'islamiat', 'urdu']}]\n"
     ]
    }
   ],
   "source": [
    "# appending a new dictionary in a list of dictionary\n",
    "new_student = {\n",
    "    \"std id\": 4,\n",
    "    \"first_name\" : \"sheryar\",\n",
    "    \"last_name\" : \"Ahmed\",\n",
    "    \"dept\" : \"Computer Systems\",\n",
    "    \"subject\": [\"maths\",\"english\",\"physics\",\"islamiat\",\"urdu\"]\n",
    "}\n",
    "students.append(new_student)\n",
    "print(students)"
   ]
  },
  {
   "cell_type": "code",
   "execution_count": 18,
   "metadata": {},
   "outputs": [
    {
     "name": "stdout",
     "output_type": "stream",
     "text": [
      "[{'std id': 1, 'first_name': 'Noman', 'last_name': 'Aiajz', 'dept': 'Computer Systems', 'subject': ['maths', 'english', 'physics', 'islamiat', 'urdu']}, {'std id': 4, 'first_name': 'sheryar', 'last_name': 'Ahmed', 'dept': 'Computer Systems', 'subject': ['maths', 'english', 'physics', 'islamiat', 'urdu']}, {'std id': 2, 'first_name': 'Muddasir', 'last_name': 'khuwaja', 'dept': 'Computer Systems', 'subject': ['maths', 'english', 'physics', 'islamiat', 'urdu']}, {'std id': 3, 'first_name': 'Asim', 'last_name': 'Ahmed', 'dept': 'Computer Systems', 'subject': ['maths', 'english', 'physics', 'islamiat', 'urdu']}, {'std id': 4, 'first_name': 'sheryar', 'last_name': 'Ahmed', 'dept': 'Computer Systems', 'subject': ['maths', 'english', 'physics', 'islamiat', 'urdu']}]\n"
     ]
    }
   ],
   "source": [
    "students.insert(1,new_student) # insert the new dictionary on 2nd element\n",
    "print(students)"
   ]
  },
  {
   "cell_type": "code",
   "execution_count": 19,
   "metadata": {},
   "outputs": [
    {
     "name": "stdout",
     "output_type": "stream",
     "text": [
      "[{'std id': 1, 'first_name': 'Noman', 'last_name': 'Aiajz', 'dept': 'Computer Systems', 'subject': ['maths', 'english', 'physics', 'islamiat', 'urdu']}, {'std id': 4, 'first_name': 'sheryar', 'last_name': 'Ahmed', 'dept': 'Computer Systems', 'subject': ['maths', 'english', 'physics', 'islamiat', 'urdu']}, {'std id': 2, 'first_name': 'Muddasir', 'last_name': 'khuwaja', 'dept': 'Computer Systems', 'subject': ['maths', 'english', 'physics', 'islamiat', 'urdu']}, {'std id': 3, 'first_name': 'Asim', 'last_name': 'Ahmed', 'dept': 'Computer Systems', 'subject': ['maths', 'english', 'physics', 'islamiat', 'urdu']}, {'std id': 4, 'first_name': 'sheryar', 'last_name': 'Ahmed', 'dept': 'Computer Systems', 'subject': ['maths', 'english', 'physics', 'islamiat', 'urdu']}, {'std id': 5, 'first_name': 'Noman', 'last_name': 'Ahmed', 'dept': 'Computer Systems', 'subject': ['maths', 'english', 'physics', 'islamiat', 'urdu']}]\n"
     ]
    }
   ],
   "source": [
    "new_student = {\n",
    "    \"std id\": 5,\n",
    "    \"first_name\" : \"Noman\",\n",
    "    \"last_name\" : \"Ahmed\",\n",
    "    \"dept\" : \"Computer Systems\",\n",
    "    \"subject\": [\"maths\",\"english\",\"physics\",\"islamiat\",\"urdu\"]\n",
    "}\n",
    "students.append(new_student)\n",
    "print(students)"
   ]
  },
  {
   "cell_type": "code",
   "execution_count": 21,
   "metadata": {},
   "outputs": [
    {
     "name": "stdout",
     "output_type": "stream",
     "text": [
      "physics\n"
     ]
    }
   ],
   "source": [
    "print (students[5][\"subject\"][2]) # prints the element of list in dictionary"
   ]
  },
  {
   "cell_type": "code",
   "execution_count": 22,
   "metadata": {},
   "outputs": [
    {
     "name": "stdout",
     "output_type": "stream",
     "text": [
      "{1: {'first_name': 'Noman', 'last_name': 'Aiajz', 'dept': 'Computer Systems', 'subject': ['maths', 'english', 'physics', 'islamiat', 'urdu']}, 2: {'first_name': 'Muddasir', 'last_name': 'khuwaja', 'dept': 'Computer Systems', 'subject': ['maths', 'english', 'physics', 'islamiat', 'urdu']}, 3: {'first_name': 'Asim', 'last_name': 'Ahmed', 'dept': 'Computer Systems', 'subject': ['maths', 'english', 'physics', 'islamiat', 'urdu']}, 4: {'first_name': 'Noman', 'last_name': 'Ahmed', 'dept': 'Computer Systems', 'subject': ['maths', 'english', 'physics', 'islamiat', 'urdu']}}\n"
     ]
    }
   ],
   "source": [
    "#                      dictionaries on dictionary\n",
    "students = {\n",
    "    1 : {\n",
    "        \"first_name\" : \"Noman\",\n",
    "        \"last_name\" : \"Aiajz\",\n",
    "        \"dept\" : \"Computer Systems\",\n",
    "    \"subject\": [\"maths\",\"english\",\"physics\",\"islamiat\",\"urdu\"]\n",
    "    },\n",
    "    2 : {\n",
    "        \"first_name\" : \"Muddasir\",\n",
    "        \"last_name\" : \"khuwaja\",\n",
    "        \"dept\" : \"Computer Systems\",\n",
    "    \"subject\": [\"maths\",\"english\",\"physics\",\"islamiat\",\"urdu\"]\n",
    "    },\n",
    "    3 : {\n",
    "        \"first_name\" : \"Asim\",\n",
    "        \"last_name\" : \"Ahmed\",\n",
    "        \"dept\" : \"Computer Systems\",\n",
    "    \"subject\": [\"maths\",\"english\",\"physics\",\"islamiat\",\"urdu\"]\n",
    "    },\n",
    "    4 : {\n",
    "    \"first_name\" : \"sheryar\",\n",
    "    \"last_name\" : \"Ahmed\",\n",
    "    \"dept\" : \"Computer Systems\",\n",
    "    \"subject\": [\"maths\",\"english\",\"physics\",\"islamiat\",\"urdu\"]\n",
    "   },\n",
    "  4 : {\n",
    "       \"first_name\" : \"Noman\",\n",
    "    \"last_name\" : \"Ahmed\",\n",
    "    \"dept\" : \"Computer Systems\",\n",
    "    \"subject\": [\"maths\",\"english\",\"physics\",\"islamiat\",\"urdu\"]\n",
    "  }  \n",
    "\n",
    "}\n",
    "print (students)"
   ]
  },
  {
   "cell_type": "code",
   "execution_count": 23,
   "metadata": {},
   "outputs": [
    {
     "name": "stdout",
     "output_type": "stream",
     "text": [
      "{'first_name': 'Noman', 'last_name': 'Aiajz', 'dept': 'Computer Systems', 'subject': ['maths', 'english', 'physics', 'islamiat', 'urdu']}\n"
     ]
    }
   ],
   "source": [
    "print (students[1])"
   ]
  },
  {
   "cell_type": "code",
   "execution_count": 30,
   "metadata": {},
   "outputs": [
    {
     "name": "stdout",
     "output_type": "stream",
     "text": [
      "Noman\n"
     ]
    }
   ],
   "source": [
    "print (students[1][\"first_name\"])"
   ]
  },
  {
   "cell_type": "code",
   "execution_count": null,
   "metadata": {},
   "outputs": [],
   "source": []
  }
 ],
 "metadata": {
  "kernelspec": {
   "display_name": "Python 3",
   "language": "python",
   "name": "python3"
  },
  "language_info": {
   "codemirror_mode": {
    "name": "ipython",
    "version": 3
   },
   "file_extension": ".py",
   "mimetype": "text/x-python",
   "name": "python",
   "nbconvert_exporter": "python",
   "pygments_lexer": "ipython3",
   "version": "3.7.4"
  }
 },
 "nbformat": 4,
 "nbformat_minor": 2
}
