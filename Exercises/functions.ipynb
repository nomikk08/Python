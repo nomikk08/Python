{
 "cells": [
  {
   "cell_type": "code",
   "execution_count": 1,
   "metadata": {},
   "outputs": [
    {
     "name": "stdout",
     "output_type": "stream",
     "text": [
      "30\n"
     ]
    }
   ],
   "source": [
    "def addition ():\n",
    "    a = 10\n",
    "    b = 20\n",
    "    c = a+b\n",
    "    print (c)\n",
    "addition()"
   ]
  },
  {
   "cell_type": "code",
   "execution_count": 3,
   "metadata": {},
   "outputs": [
    {
     "name": "stdout",
     "output_type": "stream",
     "text": [
      "60\n"
     ]
    }
   ],
   "source": [
    "def addition (a,b,c): #passing the parameters to the function\n",
    "    d=a+b+c\n",
    "    print(d)\n",
    "addition(10,20,30) # passing argument to the function"
   ]
  },
  {
   "cell_type": "code",
   "execution_count": 5,
   "metadata": {},
   "outputs": [
    {
     "name": "stdout",
     "output_type": "stream",
     "text": [
      "Noman Aijaz\n"
     ]
    }
   ],
   "source": [
    "def full_name(first_name , last_name):\n",
    "    name = first_name + \" \" + last_name\n",
    "    print(name)\n",
    "full_name(\"Noman\",\"Aijaz\")"
   ]
  },
  {
   "cell_type": "code",
   "execution_count": 1,
   "metadata": {},
   "outputs": [
    {
     "name": "stdout",
     "output_type": "stream",
     "text": [
      "7\n"
     ]
    }
   ],
   "source": [
    "def add(a,b):\n",
    "    result = a+b\n",
    "    print(result)\n",
    "c=3\n",
    "d=4\n",
    "add(c,d)  #argument passes the value to the parameters"
   ]
  },
  {
   "cell_type": "code",
   "execution_count": 4,
   "metadata": {},
   "outputs": [
    {
     "name": "stdout",
     "output_type": "stream",
     "text": [
      "20\n"
     ]
    }
   ],
   "source": [
    "def add(a=10,b=10):\n",
    "    result = a+b\n",
    "    print(result)\n",
    "add()"
   ]
  },
  {
   "cell_type": "code",
   "execution_count": 2,
   "metadata": {},
   "outputs": [
    {
     "name": "stdout",
     "output_type": "stream",
     "text": [
      "SMIT python programming 3 months\n"
     ]
    }
   ],
   "source": [
    "inst = \"SMIT\" # GLOBAL VARIABLE\n",
    "def course_detail(inst, lang, dur=\"3 months\"): # DEFAULT ARGUMENT\n",
    "    print(inst +\" \" + lang + \" \"+ dur)\n",
    "course_detail(inst, lang=\"python programming\") # NON DEFAULT ARGUMENT"
   ]
  },
  {
   "cell_type": "code",
   "execution_count": 8,
   "metadata": {},
   "outputs": [
    {
     "name": "stdout",
     "output_type": "stream",
     "text": [
      "My name is  Noman Aijaz\n",
      "nomikk08\n",
      "TandoAllahyar\n"
     ]
    }
   ],
   "source": [
    "def func(name,fname,*details): # *details stores all the undefined values like username and city \n",
    "    print(\"My name is \" + \" \" + name + \" \" + fname)\n",
    "    for values in details: # for printing the undefined values for loop is needed\n",
    "        print(values)\n",
    "        \n",
    "func(\"Noman\",\"Aijaz\",\"nomikk08\",\"TandoAllahyar\")"
   ]
  },
  {
   "cell_type": "code",
   "execution_count": 11,
   "metadata": {},
   "outputs": [
    {
     "name": "stdout",
     "output_type": "stream",
     "text": [
      "My name is  Noman Aijaz\n",
      "user_name:nomikk08\n",
      "city:TandoAllahyar\n"
     ]
    }
   ],
   "source": [
    "def func(name,fname,**details): # ** is used when there is a pair of key and value  \n",
    "    print(\"My name is \" + \" \" + name + \" \" + fname)\n",
    "    for key, values in details.items(): # .items() is used for extracting the key and value of tuple and dictionary\n",
    "        print(key + \":\" + values)\n",
    "        \n",
    "func(\"Noman\",\"Aijaz\",user_name=\"nomikk08\",city=\"TandoAllahyar\") # city is key and tando is value"
   ]
  },
  {
   "cell_type": "code",
   "execution_count": 1,
   "metadata": {},
   "outputs": [
    {
     "name": "stdout",
     "output_type": "stream",
     "text": [
      "7\n"
     ]
    }
   ],
   "source": [
    "def func():\n",
    "    a=3\n",
    "    b=4\n",
    "    result=a+b\n",
    "    return result # when the result is needed outside the scope of function RETURN is used\n",
    "return_var = func() # for returning a value we have to store the function call in a variable\n",
    "print(return_var) # then it will able to print otherwise it wouldn't"
   ]
  },
  {
   "cell_type": "code",
   "execution_count": 4,
   "metadata": {},
   "outputs": [
    {
     "name": "stdout",
     "output_type": "stream",
     "text": [
      "7\n",
      "11\n",
      "18\n"
     ]
    }
   ],
   "source": [
    "#                   ADDING THE RESULT OF TWO FUNCTION\n",
    "def func1():\n",
    "    a=3\n",
    "    b=4\n",
    "    result1=a+b\n",
    "    return result1 \n",
    "return_var1 = func1() \n",
    "print(return_var1) \n",
    "\n",
    "def func2():\n",
    "    c=6\n",
    "    d=5\n",
    "    result2=c+d\n",
    "    return result2 \n",
    "return_var2 = func2() \n",
    "print(return_var2) \n",
    "\n",
    "final_result = return_var1+return_var2\n",
    "print(final_result)"
   ]
  },
  {
   "cell_type": "code",
   "execution_count": 10,
   "metadata": {},
   "outputs": [
    {
     "name": "stdout",
     "output_type": "stream",
     "text": [
      "what is your name? Noman Aijaz\n",
      "Noman Aijaz is enrolled in SMIT python programming for 3 months\n"
     ]
    }
   ],
   "source": [
    "#                  FUNCTION IN A FUNCTION\n",
    "def course_info():\n",
    "    inst = \"SMIT\"\n",
    "    lang = \"python programming\"\n",
    "    duration = \"3 months\"\n",
    "    return (inst+\" \"+lang+\" for \"+duration) # when multiple values are RETURN (paranthesis) are used\n",
    "\n",
    "def user_info():\n",
    "    name = input(\"what is your name? \")\n",
    "    result = name + \" is enrolled in \" + course_info()\n",
    "    return result\n",
    "whole_info = user_info()\n",
    "\n",
    "print(whole_info)"
   ]
  },
  {
   "cell_type": "code",
   "execution_count": null,
   "metadata": {},
   "outputs": [],
   "source": []
  }
 ],
 "metadata": {
  "kernelspec": {
   "display_name": "Python 3",
   "language": "python",
   "name": "python3"
  },
  "language_info": {
   "codemirror_mode": {
    "name": "ipython",
    "version": 3
   },
   "file_extension": ".py",
   "mimetype": "text/x-python",
   "name": "python",
   "nbconvert_exporter": "python",
   "pygments_lexer": "ipython3",
   "version": "3.7.4"
  }
 },
 "nbformat": 4,
 "nbformat_minor": 2
}
